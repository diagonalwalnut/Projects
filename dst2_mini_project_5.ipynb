{
 "cells": [
  {
   "cell_type": "code",
   "execution_count": 1,
   "id": "ca1fb04b",
   "metadata": {},
   "outputs": [],
   "source": [
    "import pandas as pd\n",
    "import numpy as np\n",
    "import matplotlib.pyplot as plt\n",
    "import seaborn as sns"
   ]
  },
  {
   "cell_type": "markdown",
   "id": "35769ef4",
   "metadata": {},
   "source": [
    "Find another dataset that is suitable for logistic regression. Run a logistic regression on the data using the statsmodel package."
   ]
  },
  {
   "cell_type": "markdown",
   "id": "626a3329",
   "metadata": {},
   "source": [
    "https://archive.ics.uci.edu/ml/datasets/Yacht+Hydrodynamics\n",
    "\n",
    "Variations concern hull geometry coefficients and the Froude number:<br>\n",
    "1. Longitudinal position of the center of buoyancy, adimensional.<br>\n",
    "2. Prismatic coefficient, adimensional.<br>\n",
    "3. Length-displacement ratio, adimensional.<br>\n",
    "4. Beam-draught ratio, adimensional.<br>\n",
    "5. Length-beam ratio, adimensional.<br>\n",
    "6. Froude number, adimensional.<br>\n",
    "\n",
    "The measured variable is the residuary resistance per unit weight of displacement:<br>\n",
    "7. Residuary resistance per unit weight of displacement, adimensional."
   ]
  },
  {
   "cell_type": "code",
   "execution_count": 2,
   "id": "062634be",
   "metadata": {
    "scrolled": true
   },
   "outputs": [
    {
     "data": {
      "text/html": [
       "<div>\n",
       "<style scoped>\n",
       "    .dataframe tbody tr th:only-of-type {\n",
       "        vertical-align: middle;\n",
       "    }\n",
       "\n",
       "    .dataframe tbody tr th {\n",
       "        vertical-align: top;\n",
       "    }\n",
       "\n",
       "    .dataframe thead th {\n",
       "        text-align: right;\n",
       "    }\n",
       "</style>\n",
       "<table border=\"1\" class=\"dataframe\">\n",
       "  <thead>\n",
       "    <tr style=\"text-align: right;\">\n",
       "      <th></th>\n",
       "      <th>Long_pos_of_center</th>\n",
       "      <th>prismatic_coefficient</th>\n",
       "      <th>displacement_length_ratio</th>\n",
       "      <th>beam_draught_ratio</th>\n",
       "      <th>length_beam_ratio</th>\n",
       "      <th>froude_number</th>\n",
       "      <th>residuary_resistance</th>\n",
       "    </tr>\n",
       "  </thead>\n",
       "  <tbody>\n",
       "    <tr>\n",
       "      <th>0</th>\n",
       "      <td>-2.3</td>\n",
       "      <td>0.568</td>\n",
       "      <td>4.78</td>\n",
       "      <td>3.99</td>\n",
       "      <td>3.17</td>\n",
       "      <td>0.125</td>\n",
       "      <td>0.11</td>\n",
       "    </tr>\n",
       "    <tr>\n",
       "      <th>1</th>\n",
       "      <td>-2.3</td>\n",
       "      <td>0.568</td>\n",
       "      <td>4.78</td>\n",
       "      <td>3.99</td>\n",
       "      <td>3.17</td>\n",
       "      <td>0.150</td>\n",
       "      <td>0.27</td>\n",
       "    </tr>\n",
       "    <tr>\n",
       "      <th>2</th>\n",
       "      <td>-2.3</td>\n",
       "      <td>0.568</td>\n",
       "      <td>4.78</td>\n",
       "      <td>3.99</td>\n",
       "      <td>3.17</td>\n",
       "      <td>0.175</td>\n",
       "      <td>0.47</td>\n",
       "    </tr>\n",
       "    <tr>\n",
       "      <th>3</th>\n",
       "      <td>-2.3</td>\n",
       "      <td>0.568</td>\n",
       "      <td>4.78</td>\n",
       "      <td>3.99</td>\n",
       "      <td>3.17</td>\n",
       "      <td>0.200</td>\n",
       "      <td>0.78</td>\n",
       "    </tr>\n",
       "    <tr>\n",
       "      <th>4</th>\n",
       "      <td>-2.3</td>\n",
       "      <td>0.568</td>\n",
       "      <td>4.78</td>\n",
       "      <td>3.99</td>\n",
       "      <td>3.17</td>\n",
       "      <td>0.225</td>\n",
       "      <td>1.18</td>\n",
       "    </tr>\n",
       "    <tr>\n",
       "      <th>...</th>\n",
       "      <td>...</td>\n",
       "      <td>...</td>\n",
       "      <td>...</td>\n",
       "      <td>...</td>\n",
       "      <td>...</td>\n",
       "      <td>...</td>\n",
       "      <td>...</td>\n",
       "    </tr>\n",
       "    <tr>\n",
       "      <th>303</th>\n",
       "      <td>-2.3</td>\n",
       "      <td>0.600</td>\n",
       "      <td>4.34</td>\n",
       "      <td>4.23</td>\n",
       "      <td>2.73</td>\n",
       "      <td>0.350</td>\n",
       "      <td>8.47</td>\n",
       "    </tr>\n",
       "    <tr>\n",
       "      <th>304</th>\n",
       "      <td>-2.3</td>\n",
       "      <td>0.600</td>\n",
       "      <td>4.34</td>\n",
       "      <td>4.23</td>\n",
       "      <td>2.73</td>\n",
       "      <td>0.375</td>\n",
       "      <td>12.27</td>\n",
       "    </tr>\n",
       "    <tr>\n",
       "      <th>305</th>\n",
       "      <td>-2.3</td>\n",
       "      <td>0.600</td>\n",
       "      <td>4.34</td>\n",
       "      <td>4.23</td>\n",
       "      <td>2.73</td>\n",
       "      <td>0.400</td>\n",
       "      <td>19.59</td>\n",
       "    </tr>\n",
       "    <tr>\n",
       "      <th>306</th>\n",
       "      <td>-2.3</td>\n",
       "      <td>0.600</td>\n",
       "      <td>4.34</td>\n",
       "      <td>4.23</td>\n",
       "      <td>2.73</td>\n",
       "      <td>0.425</td>\n",
       "      <td>30.48</td>\n",
       "    </tr>\n",
       "    <tr>\n",
       "      <th>307</th>\n",
       "      <td>-2.3</td>\n",
       "      <td>0.600</td>\n",
       "      <td>4.34</td>\n",
       "      <td>4.23</td>\n",
       "      <td>2.73</td>\n",
       "      <td>0.450</td>\n",
       "      <td>46.66</td>\n",
       "    </tr>\n",
       "  </tbody>\n",
       "</table>\n",
       "<p>308 rows × 7 columns</p>\n",
       "</div>"
      ],
      "text/plain": [
       "     Long_pos_of_center  prismatic_coefficient  displacement_length_ratio  \\\n",
       "0                  -2.3                  0.568                       4.78   \n",
       "1                  -2.3                  0.568                       4.78   \n",
       "2                  -2.3                  0.568                       4.78   \n",
       "3                  -2.3                  0.568                       4.78   \n",
       "4                  -2.3                  0.568                       4.78   \n",
       "..                  ...                    ...                        ...   \n",
       "303                -2.3                  0.600                       4.34   \n",
       "304                -2.3                  0.600                       4.34   \n",
       "305                -2.3                  0.600                       4.34   \n",
       "306                -2.3                  0.600                       4.34   \n",
       "307                -2.3                  0.600                       4.34   \n",
       "\n",
       "     beam_draught_ratio  length_beam_ratio  froude_number  \\\n",
       "0                  3.99               3.17          0.125   \n",
       "1                  3.99               3.17          0.150   \n",
       "2                  3.99               3.17          0.175   \n",
       "3                  3.99               3.17          0.200   \n",
       "4                  3.99               3.17          0.225   \n",
       "..                  ...                ...            ...   \n",
       "303                4.23               2.73          0.350   \n",
       "304                4.23               2.73          0.375   \n",
       "305                4.23               2.73          0.400   \n",
       "306                4.23               2.73          0.425   \n",
       "307                4.23               2.73          0.450   \n",
       "\n",
       "     residuary_resistance  \n",
       "0                    0.11  \n",
       "1                    0.27  \n",
       "2                    0.47  \n",
       "3                    0.78  \n",
       "4                    1.18  \n",
       "..                    ...  \n",
       "303                  8.47  \n",
       "304                 12.27  \n",
       "305                 19.59  \n",
       "306                 30.48  \n",
       "307                 46.66  \n",
       "\n",
       "[308 rows x 7 columns]"
      ]
     },
     "execution_count": 2,
     "metadata": {},
     "output_type": "execute_result"
    }
   ],
   "source": [
    "data_url = \"yacht_hydrodynamics.data\"\n",
    "data = pd.read_csv(data_url)\n",
    "data"
   ]
  },
  {
   "cell_type": "code",
   "execution_count": 3,
   "id": "b5a04c1a",
   "metadata": {},
   "outputs": [],
   "source": [
    "X = data.drop([\"residuary_resistance\"], axis=1)\n",
    "y = pd.DataFrame(data.residuary_resistance)"
   ]
  },
  {
   "cell_type": "markdown",
   "id": "7ccb7b0d",
   "metadata": {},
   "source": [
    "Fitting the target values (y) to be either 0 or 1 depending"
   ]
  },
  {
   "cell_type": "code",
   "execution_count": 4,
   "id": "3a172f3d",
   "metadata": {},
   "outputs": [],
   "source": [
    "y_scaled = y < y.median()"
   ]
  },
  {
   "cell_type": "code",
   "execution_count": 5,
   "id": "a1cd0d13",
   "metadata": {},
   "outputs": [
    {
     "name": "stdout",
     "output_type": "stream",
     "text": [
      "Optimization terminated successfully.\n",
      "         Current function value: 0.051302\n",
      "         Iterations: 77\n",
      "         Function evaluations: 79\n",
      "         Gradient evaluations: 79\n"
     ]
    }
   ],
   "source": [
    "import statsmodels.api as sm\n",
    "\n",
    "log_reg = sm.Logit(y_scaled, X).fit(method='bfgs', maxiter=10000)"
   ]
  },
  {
   "cell_type": "markdown",
   "id": "7c88be97",
   "metadata": {},
   "source": [
    "Print the results and interpret the parameter coefficients for each input variable: https://www.statsmodels.org/stable/index.html."
   ]
  },
  {
   "cell_type": "code",
   "execution_count": 6,
   "id": "de77baac",
   "metadata": {},
   "outputs": [
    {
     "name": "stdout",
     "output_type": "stream",
     "text": [
      "                            Logit Regression Results                            \n",
      "================================================================================\n",
      "Dep. Variable:     residuary_resistance   No. Observations:                  308\n",
      "Model:                            Logit   Df Residuals:                      302\n",
      "Method:                             MLE   Df Model:                            5\n",
      "Date:                  Tue, 17 Aug 2021   Pseudo R-squ.:                  0.9260\n",
      "Time:                          00:56:24   Log-Likelihood:                -15.801\n",
      "converged:                         True   LL-Null:                       -213.49\n",
      "Covariance Type:              nonrobust   LLR p-value:                 2.943e-83\n",
      "=============================================================================================\n",
      "                                coef    std err          z      P>|z|      [0.025      0.975]\n",
      "---------------------------------------------------------------------------------------------\n",
      "Long_pos_of_center           -0.2327      0.315     -0.739      0.460      -0.850       0.384\n",
      "prismatic_coefficient        80.9433     23.608      3.429      0.001      34.673     127.213\n",
      "displacement_length_ratio    29.5562     10.149      2.912      0.004       9.665      49.447\n",
      "beam_draught_ratio          -12.4938      4.294     -2.910      0.004     -20.910      -4.078\n",
      "length_beam_ratio           -27.5030     10.613     -2.592      0.010     -48.304      -6.702\n",
      "froude_number              -175.2247     40.630     -4.313      0.000    -254.858     -95.591\n",
      "=============================================================================================\n",
      "\n",
      "Possibly complete quasi-separation: A fraction 0.71 of observations can be\n",
      "perfectly predicted. This might indicate that there is complete\n",
      "quasi-separation. In this case some parameters will not be identified.\n"
     ]
    }
   ],
   "source": [
    "print(log_reg.summary())"
   ]
  },
  {
   "cell_type": "code",
   "execution_count": 7,
   "id": "ca206f5c",
   "metadata": {},
   "outputs": [
    {
     "data": {
      "text/plain": [
       "array([  -0.23269135,   80.94334261,   29.55623576,  -12.49384698,\n",
       "        -27.50302241, -175.22465175])"
      ]
     },
     "execution_count": 7,
     "metadata": {},
     "output_type": "execute_result"
    }
   ],
   "source": [
    "log_reg.params.values"
   ]
  },
  {
   "cell_type": "markdown",
   "id": "465f25ac",
   "metadata": {},
   "source": [
    "Evaluate the model as well. "
   ]
  },
  {
   "cell_type": "code",
   "execution_count": 8,
   "id": "3780d85d",
   "metadata": {},
   "outputs": [
    {
     "data": {
      "text/plain": [
       "Long_pos_of_center            -0.232691\n",
       "prismatic_coefficient         80.943343\n",
       "displacement_length_ratio     29.556236\n",
       "beam_draught_ratio           -12.493847\n",
       "length_beam_ratio            -27.503022\n",
       "froude_number               -175.224652\n",
       "dtype: float64"
      ]
     },
     "execution_count": 8,
     "metadata": {},
     "output_type": "execute_result"
    }
   ],
   "source": [
    "coef = log_reg.params\n",
    "coef"
   ]
  },
  {
   "cell_type": "code",
   "execution_count": 9,
   "id": "fd677293",
   "metadata": {},
   "outputs": [
    {
     "data": {
      "text/plain": [
       "Long_pos_of_center           7.923981e-01\n",
       "prismatic_coefficient        1.423138e+35\n",
       "displacement_length_ratio    6.856620e+12\n",
       "beam_draught_ratio           3.749654e-06\n",
       "length_beam_ratio            1.136552e-12\n",
       "froude_number                7.959772e-77\n",
       "dtype: float64"
      ]
     },
     "execution_count": 9,
     "metadata": {},
     "output_type": "execute_result"
    }
   ],
   "source": [
    "np.exp(coef)"
   ]
  },
  {
   "cell_type": "code",
   "execution_count": 10,
   "id": "5deeb0cc",
   "metadata": {},
   "outputs": [
    {
     "data": {
      "text/html": [
       "<div>\n",
       "<style scoped>\n",
       "    .dataframe tbody tr th:only-of-type {\n",
       "        vertical-align: middle;\n",
       "    }\n",
       "\n",
       "    .dataframe tbody tr th {\n",
       "        vertical-align: top;\n",
       "    }\n",
       "\n",
       "    .dataframe thead th {\n",
       "        text-align: right;\n",
       "    }\n",
       "</style>\n",
       "<table border=\"1\" class=\"dataframe\">\n",
       "  <thead>\n",
       "    <tr style=\"text-align: right;\">\n",
       "      <th></th>\n",
       "      <th>coef</th>\n",
       "      <th>exp_coef</th>\n",
       "    </tr>\n",
       "  </thead>\n",
       "  <tbody>\n",
       "    <tr>\n",
       "      <th>Long_pos_of_center</th>\n",
       "      <td>-0.232691</td>\n",
       "      <td>7.923981e-01</td>\n",
       "    </tr>\n",
       "    <tr>\n",
       "      <th>prismatic_coefficient</th>\n",
       "      <td>80.943343</td>\n",
       "      <td>1.423138e+35</td>\n",
       "    </tr>\n",
       "    <tr>\n",
       "      <th>displacement_length_ratio</th>\n",
       "      <td>29.556236</td>\n",
       "      <td>6.856620e+12</td>\n",
       "    </tr>\n",
       "    <tr>\n",
       "      <th>beam_draught_ratio</th>\n",
       "      <td>-12.493847</td>\n",
       "      <td>3.749654e-06</td>\n",
       "    </tr>\n",
       "    <tr>\n",
       "      <th>length_beam_ratio</th>\n",
       "      <td>-27.503022</td>\n",
       "      <td>1.136552e-12</td>\n",
       "    </tr>\n",
       "    <tr>\n",
       "      <th>froude_number</th>\n",
       "      <td>-175.224652</td>\n",
       "      <td>7.959772e-77</td>\n",
       "    </tr>\n",
       "  </tbody>\n",
       "</table>\n",
       "</div>"
      ],
      "text/plain": [
       "                                 coef      exp_coef\n",
       "Long_pos_of_center          -0.232691  7.923981e-01\n",
       "prismatic_coefficient       80.943343  1.423138e+35\n",
       "displacement_length_ratio   29.556236  6.856620e+12\n",
       "beam_draught_ratio         -12.493847  3.749654e-06\n",
       "length_beam_ratio          -27.503022  1.136552e-12\n",
       "froude_number             -175.224652  7.959772e-77"
      ]
     },
     "execution_count": 10,
     "metadata": {},
     "output_type": "execute_result"
    }
   ],
   "source": [
    "# logistic regression coefficients\n",
    "results = pd.DataFrame(log_reg.params, columns=[\"coef\"])\n",
    "results[\"exp_coef\"]=np.exp(log_reg.params)\n",
    "results"
   ]
  },
  {
   "cell_type": "markdown",
   "id": "54982740",
   "metadata": {},
   "source": [
    "The coefficients of the logistic regression model can be interpreted as follows:\n",
    "Each of the factors has a coefficient. As the factor is increased or decreases, the overall value will increase or decrease by the amount of the increase or decrease times the coefficient.\n",
    "\n",
    "For example, if every other factor is held constant and Long_pos_of_center score is increased by 1, the log odd would change by -0.232691, and therefore the odds of being admitted would increase by exp(-0.232691) = 7.923981e-01.\n",
    "\n",
    "Prismatic_coefficient score is increased by 1, the log odd would change by 80.943343, and therefore the odds of being admitted would change by exp(80.943343) = 1.423138e+35.\n",
    "\n",
    "displacement_length_ratio : \t6.856620e+12<br>\n",
    "beam_draught_ratio        :\t    3.749654e-06<br>\n",
    "length_beam_ratio         : \t1.136552e-12<br>\n",
    "froude_number             :\t    7.959772e-77<br>"
   ]
  },
  {
   "cell_type": "code",
   "execution_count": null,
   "id": "8d802094",
   "metadata": {},
   "outputs": [],
   "source": []
  }
 ],
 "metadata": {
  "kernelspec": {
   "display_name": "Python 3",
   "language": "python",
   "name": "python3"
  },
  "language_info": {
   "codemirror_mode": {
    "name": "ipython",
    "version": 3
   },
   "file_extension": ".py",
   "mimetype": "text/x-python",
   "name": "python",
   "nbconvert_exporter": "python",
   "pygments_lexer": "ipython3",
   "version": "3.9.4"
  }
 },
 "nbformat": 4,
 "nbformat_minor": 5
}
