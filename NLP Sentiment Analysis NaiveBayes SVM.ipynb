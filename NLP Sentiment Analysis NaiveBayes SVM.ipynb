{
 "cells": [
  {
   "cell_type": "markdown",
   "id": "7d5a0dc4",
   "metadata": {},
   "source": [
    "https://towardsdatascience.com/machine-learning-nlp-text-classification-using-scikit-learn-python-and-nltk-c52b92a7c73a\n",
    "\n",
    "https://www.kaggle.com/datatattle/covid-19-nlp-text-classification?select=Corona_NLP_test.csv"
   ]
  },
  {
   "cell_type": "markdown",
   "id": "c036ab76",
   "metadata": {},
   "source": [
    "***Final Project (Presentation)***\n",
    "\n",
    "This part of the final project involves presenting what you did for your final project. This presentation will be done during the Week 10 live session. Every student will present their work.<br>\n",
    "\n",
    "The presentation should address the following:<br>\n",
    "Slide 1: Title page<br>\n",
    "Slide 2: Purpose of your analysis and research question<br>\n",
    "Slide 3: Description of your dataset and source<br>\n",
    "Slide 4: Description of input (or input and output) variables in your dataset<br>\n",
    "Slide 5: Data preprocessing<br>\n",
    "Slides 6–7: Relevant descriptive statistics, frequency tables, and/or graphs<br>\n",
    "Slide 8: Data splitting or partitioning<br>\n",
    "Slide 9: Code snippet for your algorithm or a screenshot of code for building the model<br>\n",
    "Slide 10: Model selection and model evaluation—performance measures, graphs, and so forth.<br>\n",
    "Slide 11: Conclusion<br>"
   ]
  },
  {
   "cell_type": "markdown",
   "id": "9ccbb4b0",
   "metadata": {},
   "source": [
    "<p>Find a dataset that could be analyzed using a specific algorithm or method of interest covered in this course, to answer a research question. Your written project should address the following:</p>\n",
    "<p>Describe the dataset and the source. Your dataset should not be related to any dataset already used in class examples. Avoid using some popular datasets such as the iris dataset. Find some dataset that you think is unique and interesting to you. Though you can use data from the internet, avoid copying analysis examples directly from the internet. Instead, apply the knowledge you have learned from this course to your work.</p>\n",
    "<p>Describe the variables, both input and output variables, that would be used for your analysis. You can include descriptive statistics for numerical variables, frequencies of categorical variables, and appropriate graphs such as bar charts for categorical variables and histograms of numerical variables.</p>\n",
    "<p>State the research question to be answered through your analysis. Your research question should focus on a supervised or unsupervised learning problem.</p>\n",
    "<p>Describe what you did for data preprocessing and how you partitioned the data. Also include rationale for why you preprocessed and partitioned the data the way you did.</p>\n",
    "<p>You can code an algorithm from scratch to address your research question or use algorithms already built into the Python package, such as scikit-learn and statsmodels, to build a model that addresses your research question. Build different models (of the same functional form or different functional forms) that can address the research question; then compare the model to select which one has a better performance using a validation dataset. Write a brief report on how you implemented the algorithm(s) and which model you selected and why. Include validation results or graphs that supported your decision for model selection.</p>\n",
    "<p>Evaluate your final (selected) model using the test dataset to understand how well your model g</p>"
   ]
  },
  {
   "cell_type": "code",
   "execution_count": 1,
   "id": "11f9792f",
   "metadata": {},
   "outputs": [],
   "source": [
    "import numpy as np\n",
    "import pandas as pd\n",
    "import matplotlib.pyplot as plt\n",
    "import seaborn as sns\n",
    "\n",
    "from sklearn.model_selection import cross_val_predict, cross_val_score\n",
    "from sklearn.pipeline import Pipeline\n",
    "from sklearn.metrics import accuracy_score"
   ]
  },
  {
   "cell_type": "code",
   "execution_count": 2,
   "id": "29c2b6df",
   "metadata": {},
   "outputs": [],
   "source": [
    "tweets_train = pd.read_csv(\"Corona_NLP_train.csv\")\n",
    "tweets_train.columns = [c.strip(' ') for c in tweets_train.columns]"
   ]
  },
  {
   "cell_type": "code",
   "execution_count": 3,
   "id": "8438d58b",
   "metadata": {},
   "outputs": [
    {
     "data": {
      "text/html": [
       "<div>\n",
       "<style scoped>\n",
       "    .dataframe tbody tr th:only-of-type {\n",
       "        vertical-align: middle;\n",
       "    }\n",
       "\n",
       "    .dataframe tbody tr th {\n",
       "        vertical-align: top;\n",
       "    }\n",
       "\n",
       "    .dataframe thead th {\n",
       "        text-align: right;\n",
       "    }\n",
       "</style>\n",
       "<table border=\"1\" class=\"dataframe\">\n",
       "  <thead>\n",
       "    <tr style=\"text-align: right;\">\n",
       "      <th></th>\n",
       "      <th>UserName</th>\n",
       "      <th>ScreenName</th>\n",
       "      <th>Location</th>\n",
       "      <th>TweetAt</th>\n",
       "      <th>OriginalTweet</th>\n",
       "      <th>Sentiment</th>\n",
       "    </tr>\n",
       "  </thead>\n",
       "  <tbody>\n",
       "    <tr>\n",
       "      <th>0</th>\n",
       "      <td>3799</td>\n",
       "      <td>48751</td>\n",
       "      <td>London</td>\n",
       "      <td>16-03-2020</td>\n",
       "      <td>@MeNyrbie @Phil_Gahan @Chrisitv https://t.co/i...</td>\n",
       "      <td>Neutral</td>\n",
       "    </tr>\n",
       "    <tr>\n",
       "      <th>1</th>\n",
       "      <td>3800</td>\n",
       "      <td>48752</td>\n",
       "      <td>UK</td>\n",
       "      <td>16-03-2020</td>\n",
       "      <td>advice Talk to your neighbours family to excha...</td>\n",
       "      <td>Positive</td>\n",
       "    </tr>\n",
       "    <tr>\n",
       "      <th>2</th>\n",
       "      <td>3801</td>\n",
       "      <td>48753</td>\n",
       "      <td>Vagabonds</td>\n",
       "      <td>16-03-2020</td>\n",
       "      <td>Coronavirus Australia: Woolworths to give elde...</td>\n",
       "      <td>Positive</td>\n",
       "    </tr>\n",
       "    <tr>\n",
       "      <th>3</th>\n",
       "      <td>3802</td>\n",
       "      <td>48754</td>\n",
       "      <td>NaN</td>\n",
       "      <td>16-03-2020</td>\n",
       "      <td>My food stock is not the only one which is emp...</td>\n",
       "      <td>Positive</td>\n",
       "    </tr>\n",
       "    <tr>\n",
       "      <th>4</th>\n",
       "      <td>3803</td>\n",
       "      <td>48755</td>\n",
       "      <td>NaN</td>\n",
       "      <td>16-03-2020</td>\n",
       "      <td>Me, ready to go at supermarket during the #COV...</td>\n",
       "      <td>Extremely Negative</td>\n",
       "    </tr>\n",
       "  </tbody>\n",
       "</table>\n",
       "</div>"
      ],
      "text/plain": [
       "   UserName  ScreenName   Location     TweetAt  \\\n",
       "0      3799       48751     London  16-03-2020   \n",
       "1      3800       48752         UK  16-03-2020   \n",
       "2      3801       48753  Vagabonds  16-03-2020   \n",
       "3      3802       48754        NaN  16-03-2020   \n",
       "4      3803       48755        NaN  16-03-2020   \n",
       "\n",
       "                                       OriginalTweet           Sentiment  \n",
       "0  @MeNyrbie @Phil_Gahan @Chrisitv https://t.co/i...             Neutral  \n",
       "1  advice Talk to your neighbours family to excha...            Positive  \n",
       "2  Coronavirus Australia: Woolworths to give elde...            Positive  \n",
       "3  My food stock is not the only one which is emp...            Positive  \n",
       "4  Me, ready to go at supermarket during the #COV...  Extremely Negative  "
      ]
     },
     "execution_count": 3,
     "metadata": {},
     "output_type": "execute_result"
    }
   ],
   "source": [
    "tweets_train.head()"
   ]
  },
  {
   "cell_type": "code",
   "execution_count": 4,
   "id": "afc13ce9",
   "metadata": {},
   "outputs": [
    {
     "data": {
      "text/html": [
       "<div>\n",
       "<style scoped>\n",
       "    .dataframe tbody tr th:only-of-type {\n",
       "        vertical-align: middle;\n",
       "    }\n",
       "\n",
       "    .dataframe tbody tr th {\n",
       "        vertical-align: top;\n",
       "    }\n",
       "\n",
       "    .dataframe thead th {\n",
       "        text-align: right;\n",
       "    }\n",
       "</style>\n",
       "<table border=\"1\" class=\"dataframe\">\n",
       "  <thead>\n",
       "    <tr style=\"text-align: right;\">\n",
       "      <th></th>\n",
       "      <th>OriginalTweet</th>\n",
       "      <th>Sentiment</th>\n",
       "    </tr>\n",
       "  </thead>\n",
       "  <tbody>\n",
       "    <tr>\n",
       "      <th>0</th>\n",
       "      <td>@MeNyrbie @Phil_Gahan @Chrisitv https://t.co/i...</td>\n",
       "      <td>Neutral</td>\n",
       "    </tr>\n",
       "    <tr>\n",
       "      <th>1</th>\n",
       "      <td>advice Talk to your neighbours family to excha...</td>\n",
       "      <td>Positive</td>\n",
       "    </tr>\n",
       "    <tr>\n",
       "      <th>2</th>\n",
       "      <td>Coronavirus Australia: Woolworths to give elde...</td>\n",
       "      <td>Positive</td>\n",
       "    </tr>\n",
       "    <tr>\n",
       "      <th>3</th>\n",
       "      <td>My food stock is not the only one which is emp...</td>\n",
       "      <td>Positive</td>\n",
       "    </tr>\n",
       "    <tr>\n",
       "      <th>4</th>\n",
       "      <td>Me, ready to go at supermarket during the #COV...</td>\n",
       "      <td>Extremely Negative</td>\n",
       "    </tr>\n",
       "    <tr>\n",
       "      <th>...</th>\n",
       "      <td>...</td>\n",
       "      <td>...</td>\n",
       "    </tr>\n",
       "    <tr>\n",
       "      <th>41152</th>\n",
       "      <td>Airline pilots offering to stock supermarket s...</td>\n",
       "      <td>Neutral</td>\n",
       "    </tr>\n",
       "    <tr>\n",
       "      <th>41153</th>\n",
       "      <td>Response to complaint not provided citing COVI...</td>\n",
       "      <td>Extremely Negative</td>\n",
       "    </tr>\n",
       "    <tr>\n",
       "      <th>41154</th>\n",
       "      <td>You know its getting tough when @KameronWilds...</td>\n",
       "      <td>Positive</td>\n",
       "    </tr>\n",
       "    <tr>\n",
       "      <th>41155</th>\n",
       "      <td>Is it wrong that the smell of hand sanitizer i...</td>\n",
       "      <td>Neutral</td>\n",
       "    </tr>\n",
       "    <tr>\n",
       "      <th>41156</th>\n",
       "      <td>@TartiiCat Well new/used Rift S are going for ...</td>\n",
       "      <td>Negative</td>\n",
       "    </tr>\n",
       "  </tbody>\n",
       "</table>\n",
       "<p>41157 rows × 2 columns</p>\n",
       "</div>"
      ],
      "text/plain": [
       "                                           OriginalTweet           Sentiment\n",
       "0      @MeNyrbie @Phil_Gahan @Chrisitv https://t.co/i...             Neutral\n",
       "1      advice Talk to your neighbours family to excha...            Positive\n",
       "2      Coronavirus Australia: Woolworths to give elde...            Positive\n",
       "3      My food stock is not the only one which is emp...            Positive\n",
       "4      Me, ready to go at supermarket during the #COV...  Extremely Negative\n",
       "...                                                  ...                 ...\n",
       "41152  Airline pilots offering to stock supermarket s...             Neutral\n",
       "41153  Response to complaint not provided citing COVI...  Extremely Negative\n",
       "41154  You know its getting tough when @KameronWilds...            Positive\n",
       "41155  Is it wrong that the smell of hand sanitizer i...             Neutral\n",
       "41156  @TartiiCat Well new/used Rift S are going for ...            Negative\n",
       "\n",
       "[41157 rows x 2 columns]"
      ]
     },
     "execution_count": 4,
     "metadata": {},
     "output_type": "execute_result"
    }
   ],
   "source": [
    "tweets_train = tweets_train[[\"OriginalTweet\", \"Sentiment\"]]\n",
    "tweets_train"
   ]
  },
  {
   "cell_type": "code",
   "execution_count": 5,
   "id": "cbf62a50",
   "metadata": {},
   "outputs": [
    {
     "name": "stderr",
     "output_type": "stream",
     "text": [
      "[nltk_data] Downloading package words to /home/jovyan/nltk_data...\n",
      "[nltk_data]   Package words is already up-to-date!\n",
      "[nltk_data] Downloading package stopwords to /home/jovyan/nltk_data...\n",
      "[nltk_data]   Package stopwords is already up-to-date!\n",
      "[nltk_data] Downloading package wordnet to /home/jovyan/nltk_data...\n",
      "[nltk_data]   Package wordnet is already up-to-date!\n",
      "[nltk_data] Downloading package punkt to /home/jovyan/nltk_data...\n",
      "[nltk_data]   Package punkt is already up-to-date!\n"
     ]
    },
    {
     "data": {
      "text/plain": [
       "True"
      ]
     },
     "execution_count": 5,
     "metadata": {},
     "output_type": "execute_result"
    }
   ],
   "source": [
    "import re\n",
    "import string\n",
    "from nltk.corpus import stopwords\n",
    "from nltk.stem import WordNetLemmatizer\n",
    "from nltk import word_tokenize\n",
    "import contractions\n",
    "import nltk\n",
    "import re\n",
    "import string\n",
    "\n",
    "nltk.download('words')\n",
    "nltk.download('stopwords')\n",
    "nltk.download('wordnet')\n",
    "nltk.download('punkt')"
   ]
  },
  {
   "cell_type": "code",
   "execution_count": 6,
   "id": "942c2175",
   "metadata": {},
   "outputs": [],
   "source": [
    "def lemmatize_text(text):\n",
    "    lemmatizer = WordNetLemmatizer()\n",
    "    return ' '.join([lemmatizer.lemmatize(w) for w in text.split(' ')])\n",
    "\n",
    "def expand_contractions(text):\n",
    "    expanded_words = []    \n",
    "    for word in text.split():\n",
    "        expanded_words.append(contractions.fix(word))   \n",
    "\n",
    "    return ' '.join(expanded_words)\n",
    "\n",
    "def remove_others(text):\n",
    "    text = re.sub(r'http\\S+', '', text)\n",
    "    re.sub(r\"\\S*https?:\\S*\", \"\", text)\n",
    "    text = re.sub(r'\\n', \"\", text)\n",
    "    text = re.sub(r'\\r', \"\", text)\n",
    "    text = re.sub(r'-', \" \", text)\n",
    "    text = text.strip()\n",
    "    text = re.sub(r' +', \" \", text)\n",
    "    text = re.sub(r'[\\(\\)\\[\\]\\^\\$\\+\\*\\.\\?\\/!@#%&{}\\'\\\",;:]', \"\", text)\n",
    "    \n",
    "    return text\n",
    "\n",
    "def clean_text(text):\n",
    "    stop = set(nltk.corpus.stopwords.words('english'))\n",
    "    cleaned = text.lower()\n",
    "    cleaned = remove_others(cleaned)\n",
    "    cleaned = expand_contractions(cleaned)\n",
    "    tokens = word_tokenize(cleaned)\n",
    "    cleaned = ' '.join([w for w in tokens if not w in stop])\n",
    "    cleaned = lemmatize_text(cleaned)\n",
    "    return cleaned"
   ]
  },
  {
   "cell_type": "code",
   "execution_count": 7,
   "id": "27753146",
   "metadata": {},
   "outputs": [],
   "source": [
    "def clean_tweets(df, tweets_column_name):\n",
    "    df[\"cleaned_text\"] = df[tweets_column_name].replace(regex='(@\\w+)|#|&|!',value='')\n",
    "    df[\"cleaned_text\"] = df[\"cleaned_text\"].apply(clean_text)\n",
    "    return df"
   ]
  },
  {
   "cell_type": "code",
   "execution_count": 8,
   "id": "0496bb9e",
   "metadata": {},
   "outputs": [
    {
     "data": {
      "text/plain": [
       "array(['Neutral', 'Positive', 'Extremely Negative', 'Negative',\n",
       "       'Extremely Positive'], dtype=object)"
      ]
     },
     "execution_count": 8,
     "metadata": {},
     "output_type": "execute_result"
    }
   ],
   "source": [
    "tweets_train.Sentiment.unique()"
   ]
  },
  {
   "cell_type": "code",
   "execution_count": 9,
   "id": "a4879502",
   "metadata": {},
   "outputs": [
    {
     "data": {
      "text/plain": [
       "array([0, 1])"
      ]
     },
     "execution_count": 9,
     "metadata": {},
     "output_type": "execute_result"
    }
   ],
   "source": [
    "tweets_train.replace({\"Sentiment\": {'Extremely Negative': 1, \n",
    "                                    'Negative': 1, \n",
    "                                    'Neutral': 2, \n",
    "                                    'Positive': 0,\n",
    "                                    'Extremely Positive': 0}}, inplace=True)\n",
    "\n",
    "tweets_train = tweets_train[(tweets_train[\"Sentiment\"]<2)]\n",
    "\n",
    "tweets_train[\"Sentiment\"].unique()"
   ]
  },
  {
   "cell_type": "markdown",
   "id": "fedcefb3",
   "metadata": {},
   "source": [
    "The first time through this process, I used all of the data, classifying to all 5 outcomes. The result was a score just below 30%. This did not seem very good. Granted, rolling a 5 sided die to randomly guess an outcome would have an expected success of 20%, so I'm beating random. But, that is not too helpful.\n",
    "\n",
    "I decided to remove luke-warm classifications and keep the extremes. The accuracy increased to 63%. That seemed good at first, but to put that in context, when I changed the outcome to the 2 extremes, I now have a coin toss, i.e., 50%. I am beating that but by about the same amount that I was beating the five sided die.\n",
    "\n",
    "Next was to remove the neutral tweets, code extremely negative as simply negative, and the same for positive. Accuracy dropped to 0.5778.\n",
    "\n",
    "With all of that, I returned to the original classification."
   ]
  },
  {
   "cell_type": "code",
   "execution_count": 10,
   "id": "5863d990",
   "metadata": {},
   "outputs": [
    {
     "data": {
      "text/plain": [
       "(33444, 2)"
      ]
     },
     "execution_count": 10,
     "metadata": {},
     "output_type": "execute_result"
    }
   ],
   "source": [
    "tweets_train.shape"
   ]
  },
  {
   "cell_type": "code",
   "execution_count": 11,
   "id": "84925904",
   "metadata": {},
   "outputs": [
    {
     "data": {
      "text/plain": [
       "OriginalTweet    0\n",
       "Sentiment        0\n",
       "dtype: int64"
      ]
     },
     "execution_count": 11,
     "metadata": {},
     "output_type": "execute_result"
    }
   ],
   "source": [
    "tweets_train.isnull().sum()"
   ]
  },
  {
   "cell_type": "code",
   "execution_count": 12,
   "id": "c2fab648",
   "metadata": {},
   "outputs": [],
   "source": [
    "tweets_train = clean_tweets(tweets_train.copy(), \"OriginalTweet\")"
   ]
  },
  {
   "cell_type": "code",
   "execution_count": 13,
   "id": "948d735c",
   "metadata": {},
   "outputs": [],
   "source": [
    "tweets_train = tweets_train[tweets_train.cleaned_text.str.len()>=30]"
   ]
  },
  {
   "cell_type": "code",
   "execution_count": 14,
   "id": "aea34e0d",
   "metadata": {},
   "outputs": [
    {
     "data": {
      "text/html": [
       "<div>\n",
       "<style scoped>\n",
       "    .dataframe tbody tr th:only-of-type {\n",
       "        vertical-align: middle;\n",
       "    }\n",
       "\n",
       "    .dataframe tbody tr th {\n",
       "        vertical-align: top;\n",
       "    }\n",
       "\n",
       "    .dataframe thead th {\n",
       "        text-align: right;\n",
       "    }\n",
       "</style>\n",
       "<table border=\"1\" class=\"dataframe\">\n",
       "  <thead>\n",
       "    <tr style=\"text-align: right;\">\n",
       "      <th></th>\n",
       "      <th>OriginalTweet</th>\n",
       "      <th>Sentiment</th>\n",
       "      <th>cleaned_text</th>\n",
       "    </tr>\n",
       "  </thead>\n",
       "  <tbody>\n",
       "    <tr>\n",
       "      <th>1</th>\n",
       "      <td>advice Talk to your neighbours family to excha...</td>\n",
       "      <td>0</td>\n",
       "      <td>advice talk neighbour family exchange phone nu...</td>\n",
       "    </tr>\n",
       "    <tr>\n",
       "      <th>2</th>\n",
       "      <td>Coronavirus Australia: Woolworths to give elde...</td>\n",
       "      <td>0</td>\n",
       "      <td>coronavirus australia woolworth give elderly d...</td>\n",
       "    </tr>\n",
       "    <tr>\n",
       "      <th>3</th>\n",
       "      <td>My food stock is not the only one which is emp...</td>\n",
       "      <td>0</td>\n",
       "      <td>food stock one emptyplease panic enough food e...</td>\n",
       "    </tr>\n",
       "    <tr>\n",
       "      <th>4</th>\n",
       "      <td>Me, ready to go at supermarket during the #COV...</td>\n",
       "      <td>1</td>\n",
       "      <td>ready go supermarket covid19 outbreaknot I par...</td>\n",
       "    </tr>\n",
       "    <tr>\n",
       "      <th>5</th>\n",
       "      <td>As news of the regions first confirmed COVID-...</td>\n",
       "      <td>0</td>\n",
       "      <td>news regions first confirmed covid 19 case ca...</td>\n",
       "    </tr>\n",
       "  </tbody>\n",
       "</table>\n",
       "</div>"
      ],
      "text/plain": [
       "                                       OriginalTweet  Sentiment  \\\n",
       "1  advice Talk to your neighbours family to excha...          0   \n",
       "2  Coronavirus Australia: Woolworths to give elde...          0   \n",
       "3  My food stock is not the only one which is emp...          0   \n",
       "4  Me, ready to go at supermarket during the #COV...          1   \n",
       "5  As news of the regions first confirmed COVID-...          0   \n",
       "\n",
       "                                        cleaned_text  \n",
       "1  advice talk neighbour family exchange phone nu...  \n",
       "2  coronavirus australia woolworth give elderly d...  \n",
       "3  food stock one emptyplease panic enough food e...  \n",
       "4  ready go supermarket covid19 outbreaknot I par...  \n",
       "5  news regions first confirmed covid 19 case ca...  "
      ]
     },
     "execution_count": 14,
     "metadata": {},
     "output_type": "execute_result"
    }
   ],
   "source": [
    "tweets_train.head()"
   ]
  },
  {
   "cell_type": "code",
   "execution_count": 15,
   "id": "5aa23176",
   "metadata": {},
   "outputs": [
    {
     "data": {
      "image/png": "[encoded data removed]",
      "text/plain": [
       "<Figure size 432x288 with 1 Axes>"
      ]
     },
     "metadata": {
      "needs_background": "light"
     },
     "output_type": "display_data"
    }
   ],
   "source": [
    "sns.countplot(x=\"Sentiment\", data=tweets_train, palette='gist_gray')\n",
    "#plt.xticks([0,1], [\"Positive\", \"Negative\"])\n",
    "plt.xlabel(\"Sentiment\")\n",
    "plt.title(\"Tweet Counts by Sentiment\")\n",
    "plt.show()"
   ]
  },
  {
   "cell_type": "code",
   "execution_count": 16,
   "id": "f17e10ef",
   "metadata": {},
   "outputs": [
    {
     "data": {
      "image/png": "[encoded data removed]",
      "text/plain": [
       "<Figure size 432x288 with 1 Axes>"
      ]
     },
     "metadata": {
      "needs_background": "light"
     },
     "output_type": "display_data"
    }
   ],
   "source": [
    "from wordcloud import WordCloud\n",
    "\n",
    "text = \" \".join(t for t in tweets_train.cleaned_text.astype(str))\n",
    "wordcloud = WordCloud(max_words=1000, width=1000, height=750).generate(text)\n",
    "\n",
    "plt.imshow(wordcloud, interpolation='bilinear')\n",
    "plt.axis(\"off\")\n",
    "\n",
    "plt.show()"
   ]
  },
  {
   "cell_type": "code",
   "execution_count": 17,
   "id": "1ba379be",
   "metadata": {},
   "outputs": [
    {
     "data": {
      "text/plain": [
       "[('coronavirus', 13186),\n",
       " ('19', 9494),\n",
       " ('covid', 9245),\n",
       " ('price', 7377),\n",
       " ('store', 6495),\n",
       " ('food', 6429),\n",
       " ('supermarket', 6178),\n",
       " ('grocery', 5411),\n",
       " ('people', 4844),\n",
       " ('amp', 4439),\n",
       " ('consumer', 4073),\n",
       " ('covid19', 4051),\n",
       " ('shopping', 2791),\n",
       " ('need', 2771),\n",
       " ('time', 2697),\n",
       " ('online', 2680),\n",
       " ('get', 2588),\n",
       " ('worker', 2579),\n",
       " ('hand', 2509),\n",
       " ('pandemic', 2499),\n",
       " ('u', 2448),\n",
       " ('panic', 2445),\n",
       " ('like', 2285),\n",
       " ('covid_19', 2266),\n",
       " ('demand', 2217),\n",
       " ('help', 2104),\n",
       " ('sanitizer', 2062),\n",
       " ('go', 2036),\n",
       " ('home', 2032),\n",
       " ('going', 1863)]"
      ]
     },
     "execution_count": 17,
     "metadata": {},
     "output_type": "execute_result"
    }
   ],
   "source": [
    "# https://www.geeksforgeeks.org/find-frequency-of-each-word-in-a-string-in-python/\n",
    "from collections import Counter\n",
    "cnt = Counter()\n",
    "words = str.split(text, \" \")\n",
    "\n",
    "cnt = Counter(words)\n",
    "cnt.most_common(30)"
   ]
  },
  {
   "cell_type": "markdown",
   "id": "284c4da1",
   "metadata": {},
   "source": [
    "Some work could be done here to combine coronavirus, covid, 19, etc. I do not believe they will skew the outcome but it would be cleaner."
   ]
  },
  {
   "cell_type": "code",
   "execution_count": 18,
   "id": "1a6f11db",
   "metadata": {},
   "outputs": [
    {
     "data": {
      "text/plain": [
       "((33208, 13), (33208,))"
      ]
     },
     "execution_count": 18,
     "metadata": {},
     "output_type": "execute_result"
    }
   ],
   "source": [
    "from sklearn.feature_extraction.text import TfidfVectorizer\n",
    "\n",
    "tfidf = TfidfVectorizer(ngram_range=(1,2), stop_words=\"english\", min_df=.1, max_features=None)\n",
    "\n",
    "X_train = tfidf.fit_transform(tweets_train.cleaned_text.values)\n",
    "y_train = tweets_train.Sentiment\n",
    "X_train.shape, y_train.shape"
   ]
  },
  {
   "cell_type": "code",
   "execution_count": 19,
   "id": "97d55f84",
   "metadata": {},
   "outputs": [],
   "source": [
    "from sklearn.naive_bayes import MultinomialNB\n",
    "from sklearn.svm import SVC\n",
    "from sklearn.metrics import accuracy_score"
   ]
  },
  {
   "cell_type": "code",
   "execution_count": 20,
   "id": "414b3d80",
   "metadata": {},
   "outputs": [
    {
     "data": {
      "text/plain": [
       "{'alpha': 1.0, 'class_prior': None, 'fit_prior': True}"
      ]
     },
     "execution_count": 20,
     "metadata": {},
     "output_type": "execute_result"
    }
   ],
   "source": [
    "nb_classifier = MultinomialNB().fit(X_train, y_train)\n",
    "nb_classifier.get_params()"
   ]
  },
  {
   "cell_type": "code",
   "execution_count": 21,
   "id": "5b3cae15",
   "metadata": {},
   "outputs": [
    {
     "name": "stdout",
     "output_type": "stream",
     "text": [
      "Train accuracy: 0.577390990122862\n"
     ]
    }
   ],
   "source": [
    "y_pred_train_nb = nb_classifier.predict(X_train)\n",
    "print(f\"Train accuracy: {accuracy_score(y_train, y_pred_train_nb)}\")"
   ]
  },
  {
   "cell_type": "code",
   "execution_count": 22,
   "id": "f87a1d9b",
   "metadata": {},
   "outputs": [
    {
     "name": "stdout",
     "output_type": "stream",
     "text": [
      "Training Naive Bayes Cross Validation Score: 0.5724225573732032\n"
     ]
    }
   ],
   "source": [
    "nb_cv_score = cross_val_score(nb_classifier, X_train, y_train, cv=3)\n",
    "print(f\"Training Naive Bayes Cross Validation Score: {np.mean(nb_cv_score)}\")"
   ]
  },
  {
   "cell_type": "code",
   "execution_count": 23,
   "id": "abe8d2fe",
   "metadata": {},
   "outputs": [
    {
     "data": {
      "text/plain": [
       "{'alpha': 1.0, 'class_prior': None, 'fit_prior': True}"
      ]
     },
     "execution_count": 23,
     "metadata": {},
     "output_type": "execute_result"
    }
   ],
   "source": [
    "svm_classifier = SVC(probability=True, kernel=\"linear\", random_state=42).fit(X_train, y_train)\n",
    "nb_classifier.get_params()"
   ]
  },
  {
   "cell_type": "code",
   "execution_count": 24,
   "id": "8d66af3d",
   "metadata": {},
   "outputs": [
    {
     "name": "stdout",
     "output_type": "stream",
     "text": [
      "Support Vector Machine Train accuracy: 0.5805829920501084\n"
     ]
    }
   ],
   "source": [
    "y_pred_train_nb_cv = svm_classifier.predict(X_train)\n",
    "print(f\"Support Vector Machine Train accuracy: {accuracy_score(y_train, y_pred_train_nb_cv)}\")"
   ]
  },
  {
   "cell_type": "code",
   "execution_count": 25,
   "id": "c0f8eb67",
   "metadata": {},
   "outputs": [
    {
     "name": "stdout",
     "output_type": "stream",
     "text": [
      "Training SVM Cross Validation Score: 0.5798001471648008\n"
     ]
    }
   ],
   "source": [
    "svm_cv_score = cross_val_score(svm_classifier, X_train, y_train, cv=3)\n",
    "print(f\"Training SVM Cross Validation Score: {np.mean(svm_cv_score)}\")"
   ]
  },
  {
   "cell_type": "markdown",
   "id": "a59f35b3",
   "metadata": {},
   "source": [
    "Because we are tweaking the vectorization, we return to the \"cleaned\" dataset. "
   ]
  },
  {
   "cell_type": "code",
   "execution_count": 26,
   "id": "bbf4436c",
   "metadata": {},
   "outputs": [],
   "source": [
    "from sklearn.model_selection import train_test_split\n",
    "\n",
    "X_train_tune = tweets_train.cleaned_text\n",
    "y_train_tune = tweets_train.Sentiment\n",
    "\n",
    "X_train_tune, X_val_tune, y_train_tune, y_val_tune = train_test_split(X_train_tune, y_train_tune,\n",
    "                                                                      train_size=.80,\n",
    "                                                                      random_state=42)"
   ]
  },
  {
   "cell_type": "code",
   "execution_count": 27,
   "id": "def4f4fd",
   "metadata": {},
   "outputs": [
    {
     "data": {
      "text/plain": [
       "{'memory': None,\n",
       " 'steps': [('tfidf', TfidfVectorizer(norm='l1', stop_words='english')),\n",
       "  ('nb', MultinomialNB())],\n",
       " 'verbose': False,\n",
       " 'tfidf': TfidfVectorizer(norm='l1', stop_words='english'),\n",
       " 'nb': MultinomialNB(),\n",
       " 'tfidf__analyzer': 'word',\n",
       " 'tfidf__binary': False,\n",
       " 'tfidf__decode_error': 'strict',\n",
       " 'tfidf__dtype': numpy.float64,\n",
       " 'tfidf__encoding': 'utf-8',\n",
       " 'tfidf__input': 'content',\n",
       " 'tfidf__lowercase': True,\n",
       " 'tfidf__max_df': 1.0,\n",
       " 'tfidf__max_features': None,\n",
       " 'tfidf__min_df': 1,\n",
       " 'tfidf__ngram_range': (1, 1),\n",
       " 'tfidf__norm': 'l1',\n",
       " 'tfidf__preprocessor': None,\n",
       " 'tfidf__smooth_idf': True,\n",
       " 'tfidf__stop_words': 'english',\n",
       " 'tfidf__strip_accents': None,\n",
       " 'tfidf__sublinear_tf': False,\n",
       " 'tfidf__token_pattern': '(?u)\\\\b\\\\w\\\\w+\\\\b',\n",
       " 'tfidf__tokenizer': None,\n",
       " 'tfidf__use_idf': True,\n",
       " 'tfidf__vocabulary': None,\n",
       " 'nb__alpha': 1.0,\n",
       " 'nb__class_prior': None,\n",
       " 'nb__fit_prior': True}"
      ]
     },
     "execution_count": 27,
     "metadata": {},
     "output_type": "execute_result"
    }
   ],
   "source": [
    "pipe_nb = Pipeline([(\"tfidf\", TfidfVectorizer(stop_words=\"english\", norm=\"l1\")), (\"nb\", MultinomialNB())])\n",
    "pipe_nb.get_params()"
   ]
  },
  {
   "cell_type": "code",
   "execution_count": 28,
   "id": "1ff5b747",
   "metadata": {},
   "outputs": [],
   "source": [
    "from sklearn.model_selection import GridSearchCV\n",
    "\n",
    "param_grid_nb = {\"tfidf__min_df\":[10],\n",
    "                 \"tfidf__ngram_range\": [(1,1), (1,2), (1,3)],\n",
    "                 \"nb__alpha\": [.1, .5, 1],\n",
    "                 \"nb__fit_prior\": [True, False]}\n",
    "\n",
    "grid_search_nb = GridSearchCV(pipe_nb,\n",
    "                              param_grid_nb, cv=3,\n",
    "                              scoring=\"accuracy\",\n",
    "                              return_train_score=True)"
   ]
  },
  {
   "cell_type": "code",
   "execution_count": 29,
   "id": "97bd69c4",
   "metadata": {},
   "outputs": [
    {
     "data": {
      "text/plain": [
       "GridSearchCV(cv=3,\n",
       "             estimator=Pipeline(steps=[('tfidf',\n",
       "                                        TfidfVectorizer(norm='l1',\n",
       "                                                        stop_words='english')),\n",
       "                                       ('nb', MultinomialNB())]),\n",
       "             param_grid={'nb__alpha': [0.1, 0.5, 1],\n",
       "                         'nb__fit_prior': [True, False], 'tfidf__min_df': [10],\n",
       "                         'tfidf__ngram_range': [(1, 1), (1, 2), (1, 3)]},\n",
       "             return_train_score=True, scoring='accuracy')"
      ]
     },
     "execution_count": 29,
     "metadata": {},
     "output_type": "execute_result"
    }
   ],
   "source": [
    "grid_search_nb.fit(X_train_tune, y_train_tune)"
   ]
  },
  {
   "cell_type": "code",
   "execution_count": 30,
   "id": "9a5df496",
   "metadata": {},
   "outputs": [
    {
     "data": {
      "text/plain": [
       "Pipeline(steps=[('tfidf',\n",
       "                 TfidfVectorizer(min_df=10, norm='l1', stop_words='english')),\n",
       "                ('nb', MultinomialNB(alpha=1, fit_prior=False))])"
      ]
     },
     "execution_count": 30,
     "metadata": {},
     "output_type": "execute_result"
    }
   ],
   "source": [
    "best_est_nb = grid_search_nb.best_estimator_\n",
    "best_est_nb"
   ]
  },
  {
   "cell_type": "code",
   "execution_count": 31,
   "id": "965f9a72",
   "metadata": {},
   "outputs": [
    {
     "data": {
      "text/plain": [
       "{'nb__alpha': 1,\n",
       " 'nb__fit_prior': False,\n",
       " 'tfidf__min_df': 10,\n",
       " 'tfidf__ngram_range': (1, 1)}"
      ]
     },
     "execution_count": 31,
     "metadata": {},
     "output_type": "execute_result"
    }
   ],
   "source": [
    "grid_search_nb.best_params_"
   ]
  },
  {
   "cell_type": "code",
   "execution_count": 32,
   "id": "d4691fcb",
   "metadata": {},
   "outputs": [
    {
     "name": "stdout",
     "output_type": "stream",
     "text": [
      "Score on training set: 0.8277873974252804\n",
      "Score on validation set: 0.7898223426678711\n"
     ]
    }
   ],
   "source": [
    "print(f\"Score on training set: {best_est_nb.score(X_train_tune, y_train_tune)}\")\n",
    "print(f\"Score on validation set: {best_est_nb.score(X_val_tune, y_val_tune)}\")"
   ]
  },
  {
   "cell_type": "markdown",
   "id": "b4cc775c",
   "metadata": {},
   "source": [
    "On to the test data."
   ]
  },
  {
   "cell_type": "code",
   "execution_count": 33,
   "id": "4a79ca51",
   "metadata": {},
   "outputs": [
    {
     "data": {
      "text/plain": [
       "(3798, 6)"
      ]
     },
     "execution_count": 33,
     "metadata": {},
     "output_type": "execute_result"
    }
   ],
   "source": [
    "tweets_test = pd.read_csv(\"Corona_NLP_test.csv\")\n",
    "tweets_test.columns = [c.strip(' ') for c in tweets_test.columns]\n",
    "tweets_test.shape"
   ]
  },
  {
   "cell_type": "code",
   "execution_count": 34,
   "id": "a5647432",
   "metadata": {},
   "outputs": [
    {
     "data": {
      "text/plain": [
       "array([1, 0])"
      ]
     },
     "execution_count": 34,
     "metadata": {},
     "output_type": "execute_result"
    }
   ],
   "source": [
    "tweets_test.replace({\"Sentiment\": {'Extremely Negative': 1, \n",
    "                                    'Negative': 1, \n",
    "                                    'Neutral': 2, \n",
    "                                    'Positive': 0,\n",
    "                                    'Extremely Positive': 0}}, inplace=True)\n",
    "\n",
    "tweets_test = tweets_test[(tweets_test[\"Sentiment\"]<2)]\n",
    "\n",
    "tweets_test[\"Sentiment\"].unique()"
   ]
  },
  {
   "cell_type": "code",
   "execution_count": 35,
   "id": "b35b12c8",
   "metadata": {},
   "outputs": [
    {
     "data": {
      "text/plain": [
       "UserName           0\n",
       "ScreenName         0\n",
       "Location         712\n",
       "TweetAt            0\n",
       "OriginalTweet      0\n",
       "Sentiment          0\n",
       "dtype: int64"
      ]
     },
     "execution_count": 35,
     "metadata": {},
     "output_type": "execute_result"
    }
   ],
   "source": [
    "tweets_test.isnull().sum()"
   ]
  },
  {
   "cell_type": "code",
   "execution_count": 36,
   "id": "de586731",
   "metadata": {},
   "outputs": [
    {
     "data": {
      "text/plain": [
       "((3170, 13), (3170,))"
      ]
     },
     "execution_count": 36,
     "metadata": {},
     "output_type": "execute_result"
    }
   ],
   "source": [
    "tweets_test = clean_tweets(tweets_test.copy(), \"OriginalTweet\")\n",
    "tweets_test = tweets_test[tweets_test.cleaned_text.str.len()>=30]\n",
    "\n",
    "X_test = tfidf.transform(tweets_test.cleaned_text.values)\n",
    "y_test = tweets_test.Sentiment\n",
    "\n",
    "X_test.shape, y_test.shape"
   ]
  },
  {
   "cell_type": "code",
   "execution_count": 37,
   "id": "f549b6d5",
   "metadata": {},
   "outputs": [],
   "source": [
    "y_pred_test = svm_classifier.predict(X_test)"
   ]
  },
  {
   "cell_type": "code",
   "execution_count": 38,
   "id": "61986b50",
   "metadata": {},
   "outputs": [
    {
     "data": {
      "text/plain": [
       "(3170,)"
      ]
     },
     "execution_count": 38,
     "metadata": {},
     "output_type": "execute_result"
    }
   ],
   "source": [
    "y_pred_test.shape"
   ]
  },
  {
   "cell_type": "code",
   "execution_count": 39,
   "id": "05111cb0",
   "metadata": {},
   "outputs": [],
   "source": [
    "X_test_tune = tweets_test.cleaned_text\n",
    "y_test_tune = tweets_test.Sentiment"
   ]
  },
  {
   "cell_type": "code",
   "execution_count": 40,
   "id": "680add33",
   "metadata": {},
   "outputs": [
    {
     "name": "stdout",
     "output_type": "stream",
     "text": [
      "Best Estimate Score on test data: 0.7854889589905363\n"
     ]
    }
   ],
   "source": [
    "print(f\"Best Estimate Score on test data: {best_est_nb.score(X_test_tune, y_test_tune)}\")"
   ]
  },
  {
   "cell_type": "code",
   "execution_count": 41,
   "id": "5d93d001",
   "metadata": {},
   "outputs": [
    {
     "data": {
      "text/plain": [
       "{'memory': None,\n",
       " 'steps': [('tfidf', TfidfVectorizer(norm='l1', stop_words='english')),\n",
       "  ('svm', SVC(kernel='linear', probability=True, random_state=42))],\n",
       " 'verbose': False,\n",
       " 'tfidf': TfidfVectorizer(norm='l1', stop_words='english'),\n",
       " 'svm': SVC(kernel='linear', probability=True, random_state=42),\n",
       " 'tfidf__analyzer': 'word',\n",
       " 'tfidf__binary': False,\n",
       " 'tfidf__decode_error': 'strict',\n",
       " 'tfidf__dtype': numpy.float64,\n",
       " 'tfidf__encoding': 'utf-8',\n",
       " 'tfidf__input': 'content',\n",
       " 'tfidf__lowercase': True,\n",
       " 'tfidf__max_df': 1.0,\n",
       " 'tfidf__max_features': None,\n",
       " 'tfidf__min_df': 1,\n",
       " 'tfidf__ngram_range': (1, 1),\n",
       " 'tfidf__norm': 'l1',\n",
       " 'tfidf__preprocessor': None,\n",
       " 'tfidf__smooth_idf': True,\n",
       " 'tfidf__stop_words': 'english',\n",
       " 'tfidf__strip_accents': None,\n",
       " 'tfidf__sublinear_tf': False,\n",
       " 'tfidf__token_pattern': '(?u)\\\\b\\\\w\\\\w+\\\\b',\n",
       " 'tfidf__tokenizer': None,\n",
       " 'tfidf__use_idf': True,\n",
       " 'tfidf__vocabulary': None,\n",
       " 'svm__C': 1.0,\n",
       " 'svm__break_ties': False,\n",
       " 'svm__cache_size': 200,\n",
       " 'svm__class_weight': None,\n",
       " 'svm__coef0': 0.0,\n",
       " 'svm__decision_function_shape': 'ovr',\n",
       " 'svm__degree': 3,\n",
       " 'svm__gamma': 'scale',\n",
       " 'svm__kernel': 'linear',\n",
       " 'svm__max_iter': -1,\n",
       " 'svm__probability': True,\n",
       " 'svm__random_state': 42,\n",
       " 'svm__shrinking': True,\n",
       " 'svm__tol': 0.001,\n",
       " 'svm__verbose': False}"
      ]
     },
     "execution_count": 41,
     "metadata": {},
     "output_type": "execute_result"
    }
   ],
   "source": [
    "pipe_svm = Pipeline([(\"tfidf\", TfidfVectorizer(stop_words=\"english\", norm=\"l1\")), (\"svm\", SVC(probability=True, kernel=\"linear\", random_state=42))])\n",
    "pipe_svm.get_params()"
   ]
  },
  {
   "cell_type": "code",
   "execution_count": 42,
   "id": "a480dd5b",
   "metadata": {},
   "outputs": [],
   "source": [
    "param_grid_svm = {\"tfidf__min_df\":[10],\n",
    "                  \"tfidf__ngram_range\": [(1,1), (1,2), (1,3)],\n",
    "                  \"svm__C\": [1,10],\n",
    "                  \"svm__kernel\": [\"linear\", \"rbf\"]}\n",
    "\n",
    "grid_search_svm = GridSearchCV(pipe_svm,\n",
    "                               param_grid_svm, cv=3,\n",
    "                               scoring=\"accuracy\",\n",
    "                               return_train_score=True)"
   ]
  },
  {
   "cell_type": "code",
   "execution_count": 43,
   "id": "cee6bcb8",
   "metadata": {},
   "outputs": [
    {
     "data": {
      "text/plain": [
       "GridSearchCV(cv=3,\n",
       "             estimator=Pipeline(steps=[('tfidf',\n",
       "                                        TfidfVectorizer(norm='l1',\n",
       "                                                        stop_words='english')),\n",
       "                                       ('svm',\n",
       "                                        SVC(kernel='linear', probability=True,\n",
       "                                            random_state=42))]),\n",
       "             param_grid={'svm__C': [1, 10], 'svm__kernel': ['linear', 'rbf'],\n",
       "                         'tfidf__min_df': [10],\n",
       "                         'tfidf__ngram_range': [(1, 1), (1, 2), (1, 3)]},\n",
       "             return_train_score=True, scoring='accuracy')"
      ]
     },
     "execution_count": 43,
     "metadata": {},
     "output_type": "execute_result"
    }
   ],
   "source": [
    "grid_search_svm.fit(X_train_tune, y_train_tune)"
   ]
  },
  {
   "cell_type": "code",
   "execution_count": 44,
   "id": "557fb450",
   "metadata": {},
   "outputs": [
    {
     "data": {
      "text/plain": [
       "Pipeline(steps=[('tfidf',\n",
       "                 TfidfVectorizer(min_df=10, norm='l1', stop_words='english')),\n",
       "                ('svm', SVC(C=10, probability=True, random_state=42))])"
      ]
     },
     "execution_count": 44,
     "metadata": {},
     "output_type": "execute_result"
    }
   ],
   "source": [
    "best_est_svm = grid_search_svm.best_estimator_\n",
    "best_est_svm"
   ]
  },
  {
   "cell_type": "code",
   "execution_count": 45,
   "id": "58195f70",
   "metadata": {},
   "outputs": [
    {
     "data": {
      "text/plain": [
       "{'svm__C': 10,\n",
       " 'svm__kernel': 'rbf',\n",
       " 'tfidf__min_df': 10,\n",
       " 'tfidf__ngram_range': (1, 1)}"
      ]
     },
     "execution_count": 45,
     "metadata": {},
     "output_type": "execute_result"
    }
   ],
   "source": [
    "grid_search_svm.best_params_"
   ]
  },
  {
   "cell_type": "code",
   "execution_count": 46,
   "id": "93edcee4",
   "metadata": {},
   "outputs": [
    {
     "name": "stdout",
     "output_type": "stream",
     "text": [
      "Score on training set: 0.999736505307536\n",
      "Score on validation set: 0.8504968383017163\n",
      "Best Estimate Score on test data: 0.8296529968454258\n"
     ]
    }
   ],
   "source": [
    "print(f\"Score on training set: {best_est_svm.score(X_train_tune, y_train_tune)}\")\n",
    "print(f\"Score on validation set: {best_est_svm.score(X_val_tune, y_val_tune)}\")\n",
    "print(f\"Best Estimate Score on test data: {best_est_svm.score(X_test_tune, y_test_tune)}\")"
   ]
  },
  {
   "cell_type": "markdown",
   "id": "5b8794c1",
   "metadata": {},
   "source": [
    "The above shows improvement from the non-tuned model to the tuned model. The test data accuracy tops to around 83%, from < 60%. With more time and computing power, we may be able to squeeze more accuracy from a better tuned model. This demonstrated that we could increase the accuracy from a coin toss to something with predictive power.\n",
    "\n",
    "Once that analysis was complete, I wondered what the model would do with \"new\" data. This would be a real world test. We create models, selecting the best one. Then we tune the model and put it into production. This next part is production."
   ]
  },
  {
   "cell_type": "code",
   "execution_count": 47,
   "id": "14d299dc",
   "metadata": {},
   "outputs": [
    {
     "data": {
      "text/html": [
       "<div>\n",
       "<style scoped>\n",
       "    .dataframe tbody tr th:only-of-type {\n",
       "        vertical-align: middle;\n",
       "    }\n",
       "\n",
       "    .dataframe tbody tr th {\n",
       "        vertical-align: top;\n",
       "    }\n",
       "\n",
       "    .dataframe thead th {\n",
       "        text-align: right;\n",
       "    }\n",
       "</style>\n",
       "<table border=\"1\" class=\"dataframe\">\n",
       "  <thead>\n",
       "    <tr style=\"text-align: right;\">\n",
       "      <th></th>\n",
       "      <th>id</th>\n",
       "      <th>label</th>\n",
       "      <th>tweet</th>\n",
       "    </tr>\n",
       "  </thead>\n",
       "  <tbody>\n",
       "    <tr>\n",
       "      <th>0</th>\n",
       "      <td>1</td>\n",
       "      <td>0</td>\n",
       "      <td>@user when a father is dysfunctional and is s...</td>\n",
       "    </tr>\n",
       "    <tr>\n",
       "      <th>1</th>\n",
       "      <td>2</td>\n",
       "      <td>0</td>\n",
       "      <td>@user @user thanks for #lyft credit i can't us...</td>\n",
       "    </tr>\n",
       "    <tr>\n",
       "      <th>2</th>\n",
       "      <td>3</td>\n",
       "      <td>0</td>\n",
       "      <td>bihday your majesty</td>\n",
       "    </tr>\n",
       "    <tr>\n",
       "      <th>3</th>\n",
       "      <td>4</td>\n",
       "      <td>0</td>\n",
       "      <td>#model   i love u take with u all the time in ...</td>\n",
       "    </tr>\n",
       "    <tr>\n",
       "      <th>4</th>\n",
       "      <td>5</td>\n",
       "      <td>0</td>\n",
       "      <td>factsguide: society now    #motivation</td>\n",
       "    </tr>\n",
       "    <tr>\n",
       "      <th>...</th>\n",
       "      <td>...</td>\n",
       "      <td>...</td>\n",
       "      <td>...</td>\n",
       "    </tr>\n",
       "    <tr>\n",
       "      <th>31957</th>\n",
       "      <td>31958</td>\n",
       "      <td>0</td>\n",
       "      <td>ate @user isz that youuu?ðððððð...</td>\n",
       "    </tr>\n",
       "    <tr>\n",
       "      <th>31958</th>\n",
       "      <td>31959</td>\n",
       "      <td>0</td>\n",
       "      <td>to see nina turner on the airwaves trying to...</td>\n",
       "    </tr>\n",
       "    <tr>\n",
       "      <th>31959</th>\n",
       "      <td>31960</td>\n",
       "      <td>0</td>\n",
       "      <td>listening to sad songs on a monday morning otw...</td>\n",
       "    </tr>\n",
       "    <tr>\n",
       "      <th>31960</th>\n",
       "      <td>31961</td>\n",
       "      <td>1</td>\n",
       "      <td>@user #sikh #temple vandalised in in #calgary,...</td>\n",
       "    </tr>\n",
       "    <tr>\n",
       "      <th>31961</th>\n",
       "      <td>31962</td>\n",
       "      <td>0</td>\n",
       "      <td>thank you @user for you follow</td>\n",
       "    </tr>\n",
       "  </tbody>\n",
       "</table>\n",
       "<p>31962 rows × 3 columns</p>\n",
       "</div>"
      ],
      "text/plain": [
       "          id  label                                              tweet\n",
       "0          1      0   @user when a father is dysfunctional and is s...\n",
       "1          2      0  @user @user thanks for #lyft credit i can't us...\n",
       "2          3      0                                bihday your majesty\n",
       "3          4      0  #model   i love u take with u all the time in ...\n",
       "4          5      0             factsguide: society now    #motivation\n",
       "...      ...    ...                                                ...\n",
       "31957  31958      0  ate @user isz that youuu?ðððððð...\n",
       "31958  31959      0    to see nina turner on the airwaves trying to...\n",
       "31959  31960      0  listening to sad songs on a monday morning otw...\n",
       "31960  31961      1  @user #sikh #temple vandalised in in #calgary,...\n",
       "31961  31962      0                   thank you @user for you follow  \n",
       "\n",
       "[31962 rows x 3 columns]"
      ]
     },
     "execution_count": 47,
     "metadata": {},
     "output_type": "execute_result"
    }
   ],
   "source": [
    "test_other = pd.read_csv(\"https://raw.githubusercontent.com/MohamedAfham/Twitter-Sentiment-Analysis-Supervised-Learning/master/Data/train_tweets.csv\")\n",
    "test_other.columns = [c.strip(' ') for c in test_other.columns]\n",
    "test_other"
   ]
  },
  {
   "cell_type": "code",
   "execution_count": 48,
   "id": "9344298d",
   "metadata": {},
   "outputs": [
    {
     "data": {
      "text/plain": [
       "((27629, 13), (27629,))"
      ]
     },
     "execution_count": 48,
     "metadata": {},
     "output_type": "execute_result"
    }
   ],
   "source": [
    "test_other = clean_tweets(test_other.copy(), \"tweet\")\n",
    "test_other = test_other[test_other.cleaned_text.str.len()>=30]\n",
    "\n",
    "X_test_other = tfidf.transform(test_other.cleaned_text.values)\n",
    "y_test_other = test_other.label\n",
    "\n",
    "X_test_other.shape, y_test_other.shape"
   ]
  },
  {
   "cell_type": "code",
   "execution_count": 49,
   "id": "e82a8904",
   "metadata": {},
   "outputs": [
    {
     "name": "stdout",
     "output_type": "stream",
     "text": [
      "Naive Bayes Best Estimate Score on test set: 0.6884794961815484\n",
      "SVM Best Estimate Score on test set: 0.717868905859785\n"
     ]
    }
   ],
   "source": [
    "print(f\"Naive Bayes Best Estimate Score on test set: {best_est_nb.score(test_other.tweet, test_other.label)}\")\n",
    "print(f\"SVM Best Estimate Score on test set: {best_est_svm.score(test_other.tweet, test_other.label)}\")"
   ]
  }
 ],
 "metadata": {
  "kernelspec": {
   "display_name": "Python 3",
   "language": "python",
   "name": "python3"
  },
  "language_info": {
   "codemirror_mode": {
    "name": "ipython",
    "version": 3
   },
   "file_extension": ".py",
   "mimetype": "text/x-python",
   "name": "python",
   "nbconvert_exporter": "python",
   "pygments_lexer": "ipython3",
   "version": "3.9.4"
  }
 },
 "nbformat": 4,
 "nbformat_minor": 5
}
