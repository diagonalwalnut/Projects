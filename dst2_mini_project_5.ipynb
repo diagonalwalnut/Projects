{
 "cells": [
  {
   "cell_type": "code",
   "execution_count": 1,
   "id": "ca1fb04b",
   "metadata": {},
   "outputs": [],
   "source": [
    "import pandas as pd\n",
    "import numpy as np\n",
    "import matplotlib.pyplot as plt\n",
    "import seaborn as sns"
   ]
  },
  {
   "cell_type": "markdown",
   "id": "35769ef4",
   "metadata": {},
   "source": [
    "Find another dataset that is suitable for logistic regression. Run a logistic regression on the data using the statsmodel package."
   ]
  },
  {
   "cell_type": "markdown",
   "id": "626a3329",
   "metadata": {},
   "source": [
    "https://archive.ics.uci.edu/ml/datasets/Yacht+Hydrodynamics\n",
    "\n",
    "Variations concern hull geometry coefficients and the Froude number:<br>\n",
    "1. Longitudinal position of the center of buoyancy, adimensional.<br>\n",
    "2. Prismatic coefficient, adimensional.<br>\n",
    "3. Length-displacement ratio, adimensional.<br>\n",
    "4. Beam-draught ratio, adimensional.<br>\n",
    "5. Length-beam ratio, adimensional.<br>\n",
    "6. Froude number, adimensional.<br>\n",
    "\n",
    "The measured variable is the residuary resistance per unit weight of displacement:<br>\n",
    "7. Residuary resistance per unit weight of displacement, adimensional."
   ]
  },
  {
   "cell_type": "code",
   "execution_count": 2,
   "id": "062634be",
   "metadata": {
    "scrolled": true
   },
   "outputs": [
    {
     "data": {
      "text/html": [
       "<div>\n",
       "<style scoped>\n",
       "    .dataframe tbody tr th:only-of-type {\n",
       "        vertical-align: middle;\n",
       "    }\n",
       "\n",
       "    .dataframe tbody tr th {\n",
       "        vertical-align: top;\n",
       "    }\n",
       "\n",
       "    .dataframe thead th {\n",
       "        text-align: right;\n",
       "    }\n",
       "</style>\n",
       "<table border=\"1\" class=\"dataframe\">\n",
       "  <thead>\n",
       "    <tr style=\"text-align: right;\">\n",
       "      <th></th>\n",
       "      <th>Long_pos_of_center</th>\n",
       "      <th>prismatic_coefficient</th>\n",
       "      <th>displacement_length_ratio</th>\n",
       "      <th>beam_draught_ratio</th>\n",
       "      <th>length_beam_ratio</th>\n",
       "      <th>froude_number</th>\n",
       "      <th>residuary_resistance</th>\n",
       "    </tr>\n",
       "  </thead>\n",
       "  <tbody>\n",
       "    <tr>\n",
       "      <th>0</th>\n",
       "      <td>-2.3</td>\n",
       "      <td>0.568</td>\n",
       "      <td>4.78</td>\n",
       "      <td>3.99</td>\n",
       "      <td>3.17</td>\n",
       "      <td>0.125</td>\n",
       "      <td>0.11</td>\n",
       "    </tr>\n",
       "    <tr>\n",
       "      <th>1</th>\n",
       "      <td>-2.3</td>\n",
       "      <td>0.568</td>\n",
       "      <td>4.78</td>\n",
       "      <td>3.99</td>\n",
       "      <td>3.17</td>\n",
       "      <td>0.150</td>\n",
       "      <td>0.27</td>\n",
       "    </tr>\n",
       "    <tr>\n",
       "      <th>2</th>\n",
       "      <td>-2.3</td>\n",
       "      <td>0.568</td>\n",
       "      <td>4.78</td>\n",
       "      <td>3.99</td>\n",
       "      <td>3.17</td>\n",
       "      <td>0.175</td>\n",
       "      <td>0.47</td>\n",
       "    </tr>\n",
       "    <tr>\n",
       "      <th>3</th>\n",
       "      <td>-2.3</td>\n",
       "      <td>0.568</td>\n",
       "      <td>4.78</td>\n",
       "      <td>3.99</td>\n",
       "      <td>3.17</td>\n",
       "      <td>0.200</td>\n",
       "      <td>0.78</td>\n",
       "    </tr>\n",
       "    <tr>\n",
       "      <th>4</th>\n",
       "      <td>-2.3</td>\n",
       "      <td>0.568</td>\n",
       "      <td>4.78</td>\n",
       "      <td>3.99</td>\n",
       "      <td>3.17</td>\n",
       "      <td>0.225</td>\n",
       "      <td>1.18</td>\n",
       "    </tr>\n",
       "    <tr>\n",
       "      <th>...</th>\n",
       "      <td>...</td>\n",
       "      <td>...</td>\n",
       "      <td>...</td>\n",
       "      <td>...</td>\n",
       "      <td>...</td>\n",
       "      <td>...</td>\n",
       "      <td>...</td>\n",
       "    </tr>\n",
       "    <tr>\n",
       "      <th>303</th>\n",
       "      <td>-2.3</td>\n",
       "      <td>0.600</td>\n",
       "      <td>4.34</td>\n",
       "      <td>4.23</td>\n",
       "      <td>2.73</td>\n",
       "      <td>0.350</td>\n",
       "      <td>8.47</td>\n",
       "    </tr>\n",
       "    <tr>\n",
       "      <th>304</th>\n",
       "      <td>-2.3</td>\n",
       "      <td>0.600</td>\n",
       "      <td>4.34</td>\n",
       "      <td>4.23</td>\n",
       "      <td>2.73</td>\n",
       "      <td>0.375</td>\n",
       "      <td>12.27</td>\n",
       "    </tr>\n",
       "    <tr>\n",
       "      <th>305</th>\n",
       "      <td>-2.3</td>\n",
       "      <td>0.600</td>\n",
       "      <td>4.34</td>\n",
       "      <td>4.23</td>\n",
       "      <td>2.73</td>\n",
       "      <td>0.400</td>\n",
       "      <td>19.59</td>\n",
       "    </tr>\n",
       "    <tr>\n",
       "      <th>306</th>\n",
       "      <td>-2.3</td>\n",
       "      <td>0.600</td>\n",
       "      <td>4.34</td>\n",
       "      <td>4.23</td>\n",
       "      <td>2.73</td>\n",
       "      <td>0.425</td>\n",
       "      <td>30.48</td>\n",
       "    </tr>\n",
       "    <tr>\n",
       "      <th>307</th>\n",
       "      <td>-2.3</td>\n",
       "      <td>0.600</td>\n",
       "      <td>4.34</td>\n",
       "      <td>4.23</td>\n",
       "      <td>2.73</td>\n",
       "      <td>0.450</td>\n",
       "      <td>46.66</td>\n",
       "    </tr>\n",
       "  </tbody>\n",
       "</table>\n",
       "<p>308 rows × 7 columns</p>\n",
       "</div>"
      ],
      "text/plain": [
       "     Long_pos_of_center  prismatic_coefficient  displacement_length_ratio  \\\n",
       "0                  -2.3                  0.568                       4.78   \n",
       "1                  -2.3                  0.568                       4.78   \n",
       "2                  -2.3                  0.568                       4.78   \n",
       "3                  -2.3                  0.568                       4.78   \n",
       "4                  -2.3                  0.568                       4.78   \n",
       "..                  ...                    ...                        ...   \n",
       "303                -2.3                  0.600                       4.34   \n",
       "304                -2.3                  0.600                       4.34   \n",
       "305                -2.3                  0.600                       4.34   \n",
       "306                -2.3                  0.600                       4.34   \n",
       "307                -2.3                  0.600                       4.34   \n",
       "\n",
       "     beam_draught_ratio  length_beam_ratio  froude_number  \\\n",
       "0                  3.99               3.17          0.125   \n",
       "1                  3.99               3.17          0.150   \n",
       "2                  3.99               3.17          0.175   \n",
       "3                  3.99               3.17          0.200   \n",
       "4                  3.99               3.17          0.225   \n",
       "..                  ...                ...            ...   \n",
       "303                4.23               2.73          0.350   \n",
       "304                4.23               2.73          0.375   \n",
       "305                4.23               2.73          0.400   \n",
       "306                4.23               2.73          0.425   \n",
       "307                4.23               2.73          0.450   \n",
       "\n",
       "     residuary_resistance  \n",
       "0                    0.11  \n",
       "1                    0.27  \n",
       "2                    0.47  \n",
       "3                    0.78  \n",
       "4                    1.18  \n",
       "..                    ...  \n",
       "303                  8.47  \n",
       "304                 12.27  \n",
       "305                 19.59  \n",
       "306                 30.48  \n",
       "307                 46.66  \n",
       "\n",
       "[308 rows x 7 columns]"
      ]
     },
     "execution_count": 2,
     "metadata": {},
     "output_type": "execute_result"
    }
   ],
   "source": [
    "data_url = \"yacht_hydrodynamics.data\"\n",
    "data = pd.read_csv(data_url)\n",
    "data"
   ]
  },
  {
   "cell_type": "code",
   "execution_count": 4,
   "id": "b5a04c1a",
   "metadata": {},
   "outputs": [],
   "source": [
    "from sklearn.preprocessing import MinMaxScaler\n",
    "\n",
    "X = data.drop([\"residuary_resistance\"], axis=1)\n",
    "y = pd.DataFrame(data.residuary_resistance)\n",
    "\n",
    "X_scaled = MinMaxScaler().fit_transform(X)"
   ]
  },
  {
   "cell_type": "markdown",
   "id": "7ccb7b0d",
   "metadata": {},
   "source": [
    "Fitting the target values (y) to be either 0 or 1 depending"
   ]
  },
  {
   "cell_type": "code",
   "execution_count": 5,
   "id": "3a172f3d",
   "metadata": {},
   "outputs": [],
   "source": [
    "y_scaled = y < y.median()"
   ]
  },
  {
   "cell_type": "code",
   "execution_count": 6,
   "id": "8c0edafc",
   "metadata": {},
   "outputs": [],
   "source": [
    "from sklearn.model_selection import train_test_split\n",
    "\n",
    "X_train, X_test, y_train, y_test = train_test_split(X_scaled, y_scaled, test_size=0.2, random_state=42)"
   ]
  },
  {
   "cell_type": "code",
   "execution_count": 7,
   "id": "a1cd0d13",
   "metadata": {},
   "outputs": [
    {
     "name": "stdout",
     "output_type": "stream",
     "text": [
      "Optimization terminated successfully.\n",
      "         Current function value: 0.081904\n",
      "         Iterations: 63\n",
      "         Function evaluations: 64\n",
      "         Gradient evaluations: 64\n"
     ]
    }
   ],
   "source": [
    "import statsmodels.api as sm\n",
    "\n",
    "log_reg = sm.Logit(y_train, X_train).fit(method='bfgs', maxiter=10000)"
   ]
  },
  {
   "cell_type": "markdown",
   "id": "7c88be97",
   "metadata": {},
   "source": [
    "Print the results and interpret the parameter coefficients for each input variable: https://www.statsmodels.org/stable/index.html."
   ]
  },
  {
   "cell_type": "code",
   "execution_count": 8,
   "id": "de77baac",
   "metadata": {},
   "outputs": [
    {
     "name": "stdout",
     "output_type": "stream",
     "text": [
      "                            Logit Regression Results                            \n",
      "================================================================================\n",
      "Dep. Variable:     residuary_resistance   No. Observations:                  246\n",
      "Model:                            Logit   Df Residuals:                      240\n",
      "Method:                             MLE   Df Model:                            5\n",
      "Date:                  Mon, 16 Aug 2021   Pseudo R-squ.:                  0.8816\n",
      "Time:                          20:13:52   Log-Likelihood:                -20.148\n",
      "converged:                         True   LL-Null:                       -170.22\n",
      "Covariance Type:              nonrobust   LLR p-value:                 9.317e-63\n",
      "==============================================================================\n",
      "                 coef    std err          z      P>|z|      [0.025      0.975]\n",
      "------------------------------------------------------------------------------\n",
      "x1             1.0460      1.315      0.795      0.426      -1.532       3.624\n",
      "x2           -11.0671      3.053     -3.626      0.000     -17.050      -5.084\n",
      "x3           -38.1260      9.447     -4.036      0.000     -56.641     -19.611\n",
      "x4            46.1512     11.060      4.173      0.000      24.475      67.828\n",
      "x5            44.6714     10.775      4.146      0.000      23.553      65.790\n",
      "x6           -36.0785      8.186     -4.407      0.000     -52.124     -20.033\n",
      "==============================================================================\n",
      "\n",
      "Possibly complete quasi-separation: A fraction 0.54 of observations can be\n",
      "perfectly predicted. This might indicate that there is complete\n",
      "quasi-separation. In this case some parameters will not be identified.\n"
     ]
    }
   ],
   "source": [
    "print(log_reg.summary())"
   ]
  },
  {
   "cell_type": "code",
   "execution_count": 9,
   "id": "ca206f5c",
   "metadata": {},
   "outputs": [
    {
     "data": {
      "text/plain": [
       "array([  1.04597424, -11.0671329 , -38.12603341,  46.15121649,\n",
       "        44.67137291, -36.07847056])"
      ]
     },
     "execution_count": 9,
     "metadata": {},
     "output_type": "execute_result"
    }
   ],
   "source": [
    "log_reg.params.values"
   ]
  },
  {
   "cell_type": "markdown",
   "id": "465f25ac",
   "metadata": {},
   "source": [
    "Evaluate the model as well. "
   ]
  },
  {
   "cell_type": "code",
   "execution_count": 10,
   "id": "3780d85d",
   "metadata": {},
   "outputs": [
    {
     "name": "stdout",
     "output_type": "stream",
     "text": [
      "Confusion Matrix : \n",
      " [[25  0]\n",
      " [ 3 34]]\n"
     ]
    }
   ],
   "source": [
    "from sklearn.metrics import (confusion_matrix, accuracy_score)\n",
    "\n",
    "y_pred = log_reg.predict(X_test)\n",
    "y_pred = list(map(round, y_pred))\n",
    "\n",
    "cm = confusion_matrix(y_test, y_pred) \n",
    "print (\"Confusion Matrix : \\n\", cm) "
   ]
  },
  {
   "cell_type": "code",
   "execution_count": 11,
   "id": "fd677293",
   "metadata": {},
   "outputs": [
    {
     "name": "stdout",
     "output_type": "stream",
     "text": [
      "Test accuracy =  0.9516129032258065\n"
     ]
    }
   ],
   "source": [
    "print('Test accuracy = ', accuracy_score(y_test, y_pred))"
   ]
  }
 ],
 "metadata": {
  "kernelspec": {
   "display_name": "Python 3",
   "language": "python",
   "name": "python3"
  },
  "language_info": {
   "codemirror_mode": {
    "name": "ipython",
    "version": 3
   },
   "file_extension": ".py",
   "mimetype": "text/x-python",
   "name": "python",
   "nbconvert_exporter": "python",
   "pygments_lexer": "ipython3",
   "version": "3.9.4"
  }
 },
 "nbformat": 4,
 "nbformat_minor": 5
}
