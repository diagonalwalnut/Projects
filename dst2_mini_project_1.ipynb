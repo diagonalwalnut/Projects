{
 "cells": [
  {
   "cell_type": "markdown",
   "id": "c1e7d151",
   "metadata": {},
   "source": [
    "***Thad Hoskins***\n",
    "\n",
    "Mini-project 1"
   ]
  },
  {
   "cell_type": "code",
   "execution_count": 1,
   "id": "8c1cb8b0",
   "metadata": {},
   "outputs": [],
   "source": [
    "import numpy as np\n",
    "import pandas as pd\n",
    "import matplotlib.pyplot as plt\n",
    "import sklearn\n",
    "from sklearn.preprocessing import MinMaxScaler\n",
    "from sklearn.model_selection import train_test_split, cross_val_score, GridSearchCV, validation_curve\n",
    "from sklearn.tree import DecisionTreeRegressor, DecisionTreeClassifier\n",
    "from sklearn.ensemble import RandomForestClassifier\n",
    "from sklearn.metrics import accuracy_score, zero_one_loss, classification_report, confusion_matrix, precision_score, recall_score, f1_score, plot_roc_curve, plot_confusion_matrix, mean_squared_error"
   ]
  },
  {
   "cell_type": "markdown",
   "id": "5ce3d528",
   "metadata": {},
   "source": [
    "***Question 4***\n",
    "\n",
    "<p>Find your own dataset suitable for classification with at least three input variables and 200 cases: You will build a decision tree classifier and a random forest classifier. Find some interesting dataset instead of the popular iris data, etc. Feel free to use a dataset suitable for classification from this link provided below or some other source of your choice: https://vincentarelbundock.github.io/Rdatasets/articles/data.html\n",
    "<p>Address the following and include code/output snippets from b) to f). Include the response under each sub question.</p>"
   ]
  },
  {
   "cell_type": "markdown",
   "id": "b5904f48",
   "metadata": {},
   "source": [
    "a)\tState your research question: Are decision trees and random forest good models for predicting whether youths rode with a drinking driver in past 30 days (risky behavior) or not.\n",
    "\n",
    "For this analysis, we will use the gender of the youth, grade level, age, whether or not the youth smokes, and whether or not they have a driver's license.\n",
    "\n",
    "This dataset is derived from the 2007 Youth Risk Behavior Surveillance System (YRBSS), which is an annual survey conducted by the Centers for Disease Control and Prevention (CDC) to monitor the prevalence of health-risk youth behaviors. This dataset focuses on whether or not youths have recently (in past 30 days) ridden with a drunk driver.\n",
    "\n",
    "https://vincentarelbundock.github.io/Rdatasets/doc/Stat2Data/YouthRisk.html\n",
    "\n",
    "Dataset: https://vincentarelbundock.github.io/Rdatasets/csv/Stat2Data/YouthRisk.csv"
   ]
  },
  {
   "cell_type": "code",
   "execution_count": 2,
   "id": "743a34c8",
   "metadata": {},
   "outputs": [
    {
     "data": {
      "text/html": [
       "<div>\n",
       "<style scoped>\n",
       "    .dataframe tbody tr th:only-of-type {\n",
       "        vertical-align: middle;\n",
       "    }\n",
       "\n",
       "    .dataframe tbody tr th {\n",
       "        vertical-align: top;\n",
       "    }\n",
       "\n",
       "    .dataframe thead th {\n",
       "        text-align: right;\n",
       "    }\n",
       "</style>\n",
       "<table border=\"1\" class=\"dataframe\">\n",
       "  <thead>\n",
       "    <tr style=\"text-align: right;\">\n",
       "      <th></th>\n",
       "      <th>ride.alc.driver</th>\n",
       "      <th>female</th>\n",
       "      <th>grade</th>\n",
       "      <th>age4</th>\n",
       "      <th>smoke</th>\n",
       "      <th>DriverLicense</th>\n",
       "    </tr>\n",
       "  </thead>\n",
       "  <tbody>\n",
       "    <tr>\n",
       "      <th>0</th>\n",
       "      <td>1</td>\n",
       "      <td>1.0</td>\n",
       "      <td>10.0</td>\n",
       "      <td>15.0</td>\n",
       "      <td>1.0</td>\n",
       "      <td>0.0</td>\n",
       "    </tr>\n",
       "    <tr>\n",
       "      <th>1</th>\n",
       "      <td>1</td>\n",
       "      <td>1.0</td>\n",
       "      <td>10.0</td>\n",
       "      <td>18.0</td>\n",
       "      <td>1.0</td>\n",
       "      <td>1.0</td>\n",
       "    </tr>\n",
       "    <tr>\n",
       "      <th>2</th>\n",
       "      <td>1</td>\n",
       "      <td>NaN</td>\n",
       "      <td>NaN</td>\n",
       "      <td>NaN</td>\n",
       "      <td>NaN</td>\n",
       "      <td>NaN</td>\n",
       "    </tr>\n",
       "    <tr>\n",
       "      <th>3</th>\n",
       "      <td>0</td>\n",
       "      <td>0.0</td>\n",
       "      <td>11.0</td>\n",
       "      <td>17.0</td>\n",
       "      <td>0.0</td>\n",
       "      <td>1.0</td>\n",
       "    </tr>\n",
       "    <tr>\n",
       "      <th>4</th>\n",
       "      <td>0</td>\n",
       "      <td>0.0</td>\n",
       "      <td>11.0</td>\n",
       "      <td>17.0</td>\n",
       "      <td>0.0</td>\n",
       "      <td>1.0</td>\n",
       "    </tr>\n",
       "    <tr>\n",
       "      <th>...</th>\n",
       "      <td>...</td>\n",
       "      <td>...</td>\n",
       "      <td>...</td>\n",
       "      <td>...</td>\n",
       "      <td>...</td>\n",
       "      <td>...</td>\n",
       "    </tr>\n",
       "    <tr>\n",
       "      <th>13382</th>\n",
       "      <td>0</td>\n",
       "      <td>NaN</td>\n",
       "      <td>9.0</td>\n",
       "      <td>15.0</td>\n",
       "      <td>0.0</td>\n",
       "      <td>0.0</td>\n",
       "    </tr>\n",
       "    <tr>\n",
       "      <th>13383</th>\n",
       "      <td>0</td>\n",
       "      <td>NaN</td>\n",
       "      <td>9.0</td>\n",
       "      <td>15.0</td>\n",
       "      <td>0.0</td>\n",
       "      <td>0.0</td>\n",
       "    </tr>\n",
       "    <tr>\n",
       "      <th>13384</th>\n",
       "      <td>0</td>\n",
       "      <td>NaN</td>\n",
       "      <td>9.0</td>\n",
       "      <td>15.0</td>\n",
       "      <td>0.0</td>\n",
       "      <td>0.0</td>\n",
       "    </tr>\n",
       "    <tr>\n",
       "      <th>13385</th>\n",
       "      <td>0</td>\n",
       "      <td>NaN</td>\n",
       "      <td>9.0</td>\n",
       "      <td>15.0</td>\n",
       "      <td>0.0</td>\n",
       "      <td>0.0</td>\n",
       "    </tr>\n",
       "    <tr>\n",
       "      <th>13386</th>\n",
       "      <td>0</td>\n",
       "      <td>NaN</td>\n",
       "      <td>9.0</td>\n",
       "      <td>15.0</td>\n",
       "      <td>0.0</td>\n",
       "      <td>0.0</td>\n",
       "    </tr>\n",
       "  </tbody>\n",
       "</table>\n",
       "<p>13387 rows × 6 columns</p>\n",
       "</div>"
      ],
      "text/plain": [
       "       ride.alc.driver  female  grade  age4  smoke  DriverLicense\n",
       "0                    1     1.0   10.0  15.0    1.0            0.0\n",
       "1                    1     1.0   10.0  18.0    1.0            1.0\n",
       "2                    1     NaN    NaN   NaN    NaN            NaN\n",
       "3                    0     0.0   11.0  17.0    0.0            1.0\n",
       "4                    0     0.0   11.0  17.0    0.0            1.0\n",
       "...                ...     ...    ...   ...    ...            ...\n",
       "13382                0     NaN    9.0  15.0    0.0            0.0\n",
       "13383                0     NaN    9.0  15.0    0.0            0.0\n",
       "13384                0     NaN    9.0  15.0    0.0            0.0\n",
       "13385                0     NaN    9.0  15.0    0.0            0.0\n",
       "13386                0     NaN    9.0  15.0    0.0            0.0\n",
       "\n",
       "[13387 rows x 6 columns]"
      ]
     },
     "execution_count": 2,
     "metadata": {},
     "output_type": "execute_result"
    }
   ],
   "source": [
    "data = pd.read_csv(\"https://vincentarelbundock.github.io/Rdatasets/csv/Stat2Data/YouthRisk.csv\")\n",
    "data.drop([\"Unnamed: 0\"], axis=1, inplace=True)\n",
    "data"
   ]
  },
  {
   "cell_type": "markdown",
   "id": "854615c7",
   "metadata": {},
   "source": [
    "b)\tData pre-processing (to the extent deemed necessary)"
   ]
  },
  {
   "cell_type": "code",
   "execution_count": 3,
   "id": "0b88924a",
   "metadata": {},
   "outputs": [],
   "source": [
    "numeric_vars = data.columns[data.dtypes != \"object\"]\n",
    "categorical_vars = data.columns[data.dtypes == \"object\"]"
   ]
  },
  {
   "cell_type": "code",
   "execution_count": 4,
   "id": "f2377e0f",
   "metadata": {},
   "outputs": [
    {
     "data": {
      "text/plain": [
       "Index(['ride.alc.driver', 'female', 'grade', 'age4', 'smoke', 'DriverLicense'], dtype='object')"
      ]
     },
     "execution_count": 4,
     "metadata": {},
     "output_type": "execute_result"
    }
   ],
   "source": [
    "numeric_vars"
   ]
  },
  {
   "cell_type": "code",
   "execution_count": 5,
   "id": "1ece283e",
   "metadata": {},
   "outputs": [
    {
     "data": {
      "text/plain": [
       "Index([], dtype='object')"
      ]
     },
     "execution_count": 5,
     "metadata": {},
     "output_type": "execute_result"
    }
   ],
   "source": [
    "categorical_vars"
   ]
  },
  {
   "cell_type": "code",
   "execution_count": 6,
   "id": "fbd95f8d",
   "metadata": {},
   "outputs": [
    {
     "data": {
      "text/plain": [
       "female             755\n",
       "smoke              388\n",
       "grade               67\n",
       "age4                54\n",
       "DriverLicense       54\n",
       "ride.alc.driver      0\n",
       "dtype: int64"
      ]
     },
     "execution_count": 6,
     "metadata": {},
     "output_type": "execute_result"
    }
   ],
   "source": [
    "data[numeric_vars].isnull().sum().sort_values(ascending=False)"
   ]
  },
  {
   "cell_type": "code",
   "execution_count": 7,
   "id": "ae8d74e0",
   "metadata": {},
   "outputs": [
    {
     "data": {
      "text/html": [
       "<div>\n",
       "<style scoped>\n",
       "    .dataframe tbody tr th:only-of-type {\n",
       "        vertical-align: middle;\n",
       "    }\n",
       "\n",
       "    .dataframe tbody tr th {\n",
       "        vertical-align: top;\n",
       "    }\n",
       "\n",
       "    .dataframe thead th {\n",
       "        text-align: right;\n",
       "    }\n",
       "</style>\n",
       "<table border=\"1\" class=\"dataframe\">\n",
       "  <thead>\n",
       "    <tr style=\"text-align: right;\">\n",
       "      <th></th>\n",
       "      <th>ride.alc.driver</th>\n",
       "      <th>female</th>\n",
       "      <th>grade</th>\n",
       "      <th>age4</th>\n",
       "      <th>smoke</th>\n",
       "      <th>DriverLicense</th>\n",
       "    </tr>\n",
       "  </thead>\n",
       "  <tbody>\n",
       "    <tr>\n",
       "      <th>0</th>\n",
       "      <td>1</td>\n",
       "      <td>1.0</td>\n",
       "      <td>10.0</td>\n",
       "      <td>15.0</td>\n",
       "      <td>1.0</td>\n",
       "      <td>0.0</td>\n",
       "    </tr>\n",
       "    <tr>\n",
       "      <th>1</th>\n",
       "      <td>1</td>\n",
       "      <td>1.0</td>\n",
       "      <td>10.0</td>\n",
       "      <td>18.0</td>\n",
       "      <td>1.0</td>\n",
       "      <td>1.0</td>\n",
       "    </tr>\n",
       "    <tr>\n",
       "      <th>3</th>\n",
       "      <td>0</td>\n",
       "      <td>0.0</td>\n",
       "      <td>11.0</td>\n",
       "      <td>17.0</td>\n",
       "      <td>0.0</td>\n",
       "      <td>1.0</td>\n",
       "    </tr>\n",
       "    <tr>\n",
       "      <th>4</th>\n",
       "      <td>0</td>\n",
       "      <td>0.0</td>\n",
       "      <td>11.0</td>\n",
       "      <td>17.0</td>\n",
       "      <td>0.0</td>\n",
       "      <td>1.0</td>\n",
       "    </tr>\n",
       "    <tr>\n",
       "      <th>5</th>\n",
       "      <td>0</td>\n",
       "      <td>0.0</td>\n",
       "      <td>11.0</td>\n",
       "      <td>17.0</td>\n",
       "      <td>1.0</td>\n",
       "      <td>1.0</td>\n",
       "    </tr>\n",
       "    <tr>\n",
       "      <th>...</th>\n",
       "      <td>...</td>\n",
       "      <td>...</td>\n",
       "      <td>...</td>\n",
       "      <td>...</td>\n",
       "      <td>...</td>\n",
       "      <td>...</td>\n",
       "    </tr>\n",
       "    <tr>\n",
       "      <th>13173</th>\n",
       "      <td>0</td>\n",
       "      <td>0.0</td>\n",
       "      <td>9.0</td>\n",
       "      <td>15.0</td>\n",
       "      <td>0.0</td>\n",
       "      <td>0.0</td>\n",
       "    </tr>\n",
       "    <tr>\n",
       "      <th>13174</th>\n",
       "      <td>1</td>\n",
       "      <td>0.0</td>\n",
       "      <td>9.0</td>\n",
       "      <td>15.0</td>\n",
       "      <td>0.0</td>\n",
       "      <td>0.0</td>\n",
       "    </tr>\n",
       "    <tr>\n",
       "      <th>13176</th>\n",
       "      <td>0</td>\n",
       "      <td>0.0</td>\n",
       "      <td>9.0</td>\n",
       "      <td>15.0</td>\n",
       "      <td>0.0</td>\n",
       "      <td>0.0</td>\n",
       "    </tr>\n",
       "    <tr>\n",
       "      <th>13177</th>\n",
       "      <td>0</td>\n",
       "      <td>0.0</td>\n",
       "      <td>9.0</td>\n",
       "      <td>15.0</td>\n",
       "      <td>0.0</td>\n",
       "      <td>0.0</td>\n",
       "    </tr>\n",
       "    <tr>\n",
       "      <th>13178</th>\n",
       "      <td>1</td>\n",
       "      <td>0.0</td>\n",
       "      <td>9.0</td>\n",
       "      <td>14.0</td>\n",
       "      <td>1.0</td>\n",
       "      <td>0.0</td>\n",
       "    </tr>\n",
       "  </tbody>\n",
       "</table>\n",
       "<p>12282 rows × 6 columns</p>\n",
       "</div>"
      ],
      "text/plain": [
       "       ride.alc.driver  female  grade  age4  smoke  DriverLicense\n",
       "0                    1     1.0   10.0  15.0    1.0            0.0\n",
       "1                    1     1.0   10.0  18.0    1.0            1.0\n",
       "3                    0     0.0   11.0  17.0    0.0            1.0\n",
       "4                    0     0.0   11.0  17.0    0.0            1.0\n",
       "5                    0     0.0   11.0  17.0    1.0            1.0\n",
       "...                ...     ...    ...   ...    ...            ...\n",
       "13173                0     0.0    9.0  15.0    0.0            0.0\n",
       "13174                1     0.0    9.0  15.0    0.0            0.0\n",
       "13176                0     0.0    9.0  15.0    0.0            0.0\n",
       "13177                0     0.0    9.0  15.0    0.0            0.0\n",
       "13178                1     0.0    9.0  14.0    1.0            0.0\n",
       "\n",
       "[12282 rows x 6 columns]"
      ]
     },
     "execution_count": 7,
     "metadata": {},
     "output_type": "execute_result"
    }
   ],
   "source": [
    "# Drop rows with missing data\n",
    "data.dropna(axis=0, how='any', inplace=True)\n",
    "data"
   ]
  },
  {
   "cell_type": "code",
   "execution_count": 8,
   "id": "154dc4d0",
   "metadata": {},
   "outputs": [
    {
     "data": {
      "text/plain": [
       "array([10., 11.,  9., 12.])"
      ]
     },
     "execution_count": 8,
     "metadata": {},
     "output_type": "execute_result"
    }
   ],
   "source": [
    "data.grade.unique()"
   ]
  },
  {
   "cell_type": "code",
   "execution_count": 9,
   "id": "6084a6e0",
   "metadata": {},
   "outputs": [
    {
     "data": {
      "text/plain": [
       "array([1., 0.])"
      ]
     },
     "execution_count": 9,
     "metadata": {},
     "output_type": "execute_result"
    }
   ],
   "source": [
    "data.smoke.unique()"
   ]
  },
  {
   "cell_type": "code",
   "execution_count": 10,
   "id": "fb1407ef",
   "metadata": {},
   "outputs": [
    {
     "data": {
      "text/plain": [
       "array([0., 1.])"
      ]
     },
     "execution_count": 10,
     "metadata": {},
     "output_type": "execute_result"
    }
   ],
   "source": [
    "data.DriverLicense.unique()"
   ]
  },
  {
   "cell_type": "code",
   "execution_count": 11,
   "id": "15284333",
   "metadata": {},
   "outputs": [],
   "source": [
    "# Change gender, smoker, driver's license to integers. This is an opinion, but I think the data is cleaner.\n",
    "data[\"female\"] = data[\"female\"].astype(int)\n",
    "data[\"smoke\"] = data[\"smoke\"].astype(int)\n",
    "data[\"DriverLicense\"] = data[\"DriverLicense\"].astype(int)"
   ]
  },
  {
   "cell_type": "code",
   "execution_count": 12,
   "id": "173a8295",
   "metadata": {},
   "outputs": [
    {
     "data": {
      "text/html": [
       "<div>\n",
       "<style scoped>\n",
       "    .dataframe tbody tr th:only-of-type {\n",
       "        vertical-align: middle;\n",
       "    }\n",
       "\n",
       "    .dataframe tbody tr th {\n",
       "        vertical-align: top;\n",
       "    }\n",
       "\n",
       "    .dataframe thead th {\n",
       "        text-align: right;\n",
       "    }\n",
       "</style>\n",
       "<table border=\"1\" class=\"dataframe\">\n",
       "  <thead>\n",
       "    <tr style=\"text-align: right;\">\n",
       "      <th></th>\n",
       "      <th>ride.alc.driver</th>\n",
       "      <th>female</th>\n",
       "      <th>grade</th>\n",
       "      <th>age4</th>\n",
       "      <th>smoke</th>\n",
       "      <th>DriverLicense</th>\n",
       "    </tr>\n",
       "  </thead>\n",
       "  <tbody>\n",
       "    <tr>\n",
       "      <th>0</th>\n",
       "      <td>1</td>\n",
       "      <td>1</td>\n",
       "      <td>0.333333</td>\n",
       "      <td>0.25</td>\n",
       "      <td>1</td>\n",
       "      <td>0</td>\n",
       "    </tr>\n",
       "    <tr>\n",
       "      <th>1</th>\n",
       "      <td>1</td>\n",
       "      <td>1</td>\n",
       "      <td>0.333333</td>\n",
       "      <td>1.00</td>\n",
       "      <td>1</td>\n",
       "      <td>1</td>\n",
       "    </tr>\n",
       "    <tr>\n",
       "      <th>3</th>\n",
       "      <td>0</td>\n",
       "      <td>0</td>\n",
       "      <td>0.666667</td>\n",
       "      <td>0.75</td>\n",
       "      <td>0</td>\n",
       "      <td>1</td>\n",
       "    </tr>\n",
       "    <tr>\n",
       "      <th>4</th>\n",
       "      <td>0</td>\n",
       "      <td>0</td>\n",
       "      <td>0.666667</td>\n",
       "      <td>0.75</td>\n",
       "      <td>0</td>\n",
       "      <td>1</td>\n",
       "    </tr>\n",
       "    <tr>\n",
       "      <th>5</th>\n",
       "      <td>0</td>\n",
       "      <td>0</td>\n",
       "      <td>0.666667</td>\n",
       "      <td>0.75</td>\n",
       "      <td>1</td>\n",
       "      <td>1</td>\n",
       "    </tr>\n",
       "    <tr>\n",
       "      <th>...</th>\n",
       "      <td>...</td>\n",
       "      <td>...</td>\n",
       "      <td>...</td>\n",
       "      <td>...</td>\n",
       "      <td>...</td>\n",
       "      <td>...</td>\n",
       "    </tr>\n",
       "    <tr>\n",
       "      <th>13173</th>\n",
       "      <td>0</td>\n",
       "      <td>0</td>\n",
       "      <td>0.000000</td>\n",
       "      <td>0.25</td>\n",
       "      <td>0</td>\n",
       "      <td>0</td>\n",
       "    </tr>\n",
       "    <tr>\n",
       "      <th>13174</th>\n",
       "      <td>1</td>\n",
       "      <td>0</td>\n",
       "      <td>0.000000</td>\n",
       "      <td>0.25</td>\n",
       "      <td>0</td>\n",
       "      <td>0</td>\n",
       "    </tr>\n",
       "    <tr>\n",
       "      <th>13176</th>\n",
       "      <td>0</td>\n",
       "      <td>0</td>\n",
       "      <td>0.000000</td>\n",
       "      <td>0.25</td>\n",
       "      <td>0</td>\n",
       "      <td>0</td>\n",
       "    </tr>\n",
       "    <tr>\n",
       "      <th>13177</th>\n",
       "      <td>0</td>\n",
       "      <td>0</td>\n",
       "      <td>0.000000</td>\n",
       "      <td>0.25</td>\n",
       "      <td>0</td>\n",
       "      <td>0</td>\n",
       "    </tr>\n",
       "    <tr>\n",
       "      <th>13178</th>\n",
       "      <td>1</td>\n",
       "      <td>0</td>\n",
       "      <td>0.000000</td>\n",
       "      <td>0.00</td>\n",
       "      <td>1</td>\n",
       "      <td>0</td>\n",
       "    </tr>\n",
       "  </tbody>\n",
       "</table>\n",
       "<p>12282 rows × 6 columns</p>\n",
       "</div>"
      ],
      "text/plain": [
       "       ride.alc.driver  female     grade  age4  smoke  DriverLicense\n",
       "0                    1       1  0.333333  0.25      1              0\n",
       "1                    1       1  0.333333  1.00      1              1\n",
       "3                    0       0  0.666667  0.75      0              1\n",
       "4                    0       0  0.666667  0.75      0              1\n",
       "5                    0       0  0.666667  0.75      1              1\n",
       "...                ...     ...       ...   ...    ...            ...\n",
       "13173                0       0  0.000000  0.25      0              0\n",
       "13174                1       0  0.000000  0.25      0              0\n",
       "13176                0       0  0.000000  0.25      0              0\n",
       "13177                0       0  0.000000  0.25      0              0\n",
       "13178                1       0  0.000000  0.00      1              0\n",
       "\n",
       "[12282 rows x 6 columns]"
      ]
     },
     "execution_count": 12,
     "metadata": {},
     "output_type": "execute_result"
    }
   ],
   "source": [
    "# Normalize the grade and age fields to be in line with the other data being 0 or 1.\n",
    "cols = [\"grade\", \"age4\"]\n",
    "for col in cols:\n",
    "    X = np.array(data[col]).reshape(-1, 1)\n",
    "    scaler = MinMaxScaler()\n",
    "    scaler.fit(X)\n",
    "    X_scaled = scaler.transform(X)\n",
    "    data[col] = X_scaled\n",
    "data"
   ]
  },
  {
   "cell_type": "markdown",
   "id": "371e8c39",
   "metadata": {},
   "source": [
    "c) Data splitting "
   ]
  },
  {
   "cell_type": "code",
   "execution_count": 13,
   "id": "6e704897",
   "metadata": {},
   "outputs": [],
   "source": [
    "X_4_train, X_4_test, y_4_train, y_4_test = train_test_split(data.drop([\"ride.alc.driver\"], axis=1),\n",
    "                                                    data[\"ride.alc.driver\"],\n",
    "                                                    test_size=0.30,\n",
    "                                                    random_state=42)"
   ]
  },
  {
   "cell_type": "code",
   "execution_count": 14,
   "id": "da16953e",
   "metadata": {},
   "outputs": [
    {
     "data": {
      "text/plain": [
       "(3685,)"
      ]
     },
     "execution_count": 14,
     "metadata": {},
     "output_type": "execute_result"
    }
   ],
   "source": [
    "y_4_test.shape"
   ]
  },
  {
   "cell_type": "markdown",
   "id": "1f46c1bd",
   "metadata": {},
   "source": [
    "d) Model construction (a decision tree and a random forest)"
   ]
  },
  {
   "cell_type": "code",
   "execution_count": 15,
   "id": "725262a1",
   "metadata": {},
   "outputs": [
    {
     "data": {
      "text/plain": [
       "DecisionTreeClassifier(random_state=42)"
      ]
     },
     "execution_count": 15,
     "metadata": {},
     "output_type": "execute_result"
    }
   ],
   "source": [
    "dt_4 = DecisionTreeClassifier(random_state=42)\n",
    "dt_4.fit(X_4_train, y_4_train)"
   ]
  },
  {
   "cell_type": "code",
   "execution_count": 16,
   "id": "f2d1191c",
   "metadata": {},
   "outputs": [
    {
     "data": {
      "image/png": "[encoded data removed]",
      "text/plain": [
       "<Figure size 432x288 with 2 Axes>"
      ]
     },
     "metadata": {
      "needs_background": "light"
     },
     "output_type": "display_data"
    }
   ],
   "source": [
    "plot_confusion_matrix(dt_4, X_4_test, y_4_test);"
   ]
  },
  {
   "cell_type": "code",
   "execution_count": 17,
   "id": "212f46cc",
   "metadata": {},
   "outputs": [
    {
     "data": {
      "text/plain": [
       "RandomForestClassifier(random_state=42)"
      ]
     },
     "execution_count": 17,
     "metadata": {},
     "output_type": "execute_result"
    }
   ],
   "source": [
    "rf_4 = RandomForestClassifier(random_state=42)\n",
    "rf_4.fit(X_4_train, y_4_train)"
   ]
  },
  {
   "cell_type": "code",
   "execution_count": 18,
   "id": "8aae18b5",
   "metadata": {},
   "outputs": [
    {
     "data": {
      "image/png": "[encoded data removed]",
      "text/plain": [
       "<Figure size 432x288 with 2 Axes>"
      ]
     },
     "metadata": {
      "needs_background": "light"
     },
     "output_type": "display_data"
    }
   ],
   "source": [
    "plot_confusion_matrix(rf_4, X_4_test, y_4_test);"
   ]
  },
  {
   "cell_type": "markdown",
   "id": "ce0f03c8",
   "metadata": {},
   "source": [
    "e) Hyperparameter tuning (for each model, tune the hyperparameter that is important to you and use any of the methods for hyperparameter tuning learned in class such as cross validation with for loop, gridsearch cross validation, etc. You could tune more than a single parameter for each model if you want). "
   ]
  },
  {
   "cell_type": "code",
   "execution_count": 19,
   "id": "109303c2",
   "metadata": {},
   "outputs": [
    {
     "data": {
      "text/plain": [
       "{'ccp_alpha': 0.0,\n",
       " 'class_weight': None,\n",
       " 'criterion': 'gini',\n",
       " 'max_depth': None,\n",
       " 'max_features': None,\n",
       " 'max_leaf_nodes': None,\n",
       " 'min_impurity_decrease': 0.0,\n",
       " 'min_impurity_split': None,\n",
       " 'min_samples_leaf': 1,\n",
       " 'min_samples_split': 2,\n",
       " 'min_weight_fraction_leaf': 0.0,\n",
       " 'random_state': 42,\n",
       " 'splitter': 'best'}"
      ]
     },
     "execution_count": 19,
     "metadata": {},
     "output_type": "execute_result"
    }
   ],
   "source": [
    "# Decision Tree\n",
    "dt_4.get_params()"
   ]
  },
  {
   "cell_type": "code",
   "execution_count": 20,
   "id": "e31c4780",
   "metadata": {},
   "outputs": [
    {
     "data": {
      "text/plain": [
       "9"
      ]
     },
     "execution_count": 20,
     "metadata": {},
     "output_type": "execute_result"
    }
   ],
   "source": [
    "dt_4.tree_.max_depth"
   ]
  },
  {
   "cell_type": "code",
   "execution_count": 21,
   "id": "ae760967",
   "metadata": {},
   "outputs": [],
   "source": [
    "params = {'max_depth':range(1,dt_4.tree_.max_depth), 'max_features': [1,2,3,4,5]}\n",
    "dt_gs_4 = GridSearchCV(dt_4, params, cv=8, scoring='accuracy', return_train_score=True)"
   ]
  },
  {
   "cell_type": "code",
   "execution_count": 22,
   "id": "2776e54c",
   "metadata": {},
   "outputs": [
    {
     "data": {
      "text/plain": [
       "GridSearchCV(cv=8, estimator=DecisionTreeClassifier(random_state=42),\n",
       "             param_grid={'max_depth': range(1, 9),\n",
       "                         'max_features': [1, 2, 3, 4, 5]},\n",
       "             return_train_score=True, scoring='accuracy')"
      ]
     },
     "execution_count": 22,
     "metadata": {},
     "output_type": "execute_result"
    }
   ],
   "source": [
    "dt_gs_4.fit(X_4_test, y_4_test)"
   ]
  },
  {
   "cell_type": "code",
   "execution_count": 23,
   "id": "603bf736",
   "metadata": {},
   "outputs": [
    {
     "data": {
      "text/plain": [
       "{'max_depth': 4, 'max_features': 5}"
      ]
     },
     "execution_count": 23,
     "metadata": {},
     "output_type": "execute_result"
    }
   ],
   "source": [
    "dt_gs_4.best_params_"
   ]
  },
  {
   "cell_type": "code",
   "execution_count": 24,
   "id": "022b140c",
   "metadata": {},
   "outputs": [
    {
     "data": {
      "text/plain": [
       "{'bootstrap': True,\n",
       " 'ccp_alpha': 0.0,\n",
       " 'class_weight': None,\n",
       " 'criterion': 'gini',\n",
       " 'max_depth': None,\n",
       " 'max_features': 'auto',\n",
       " 'max_leaf_nodes': None,\n",
       " 'max_samples': None,\n",
       " 'min_impurity_decrease': 0.0,\n",
       " 'min_impurity_split': None,\n",
       " 'min_samples_leaf': 1,\n",
       " 'min_samples_split': 2,\n",
       " 'min_weight_fraction_leaf': 0.0,\n",
       " 'n_estimators': 100,\n",
       " 'n_jobs': None,\n",
       " 'oob_score': False,\n",
       " 'random_state': 42,\n",
       " 'verbose': 0,\n",
       " 'warm_start': False}"
      ]
     },
     "execution_count": 24,
     "metadata": {},
     "output_type": "execute_result"
    }
   ],
   "source": [
    "# Random Forest\n",
    "rf_4.get_params()"
   ]
  },
  {
   "cell_type": "code",
   "execution_count": 25,
   "id": "6d57528c",
   "metadata": {},
   "outputs": [],
   "source": [
    "rf_params = [{'n_estimators':[3,10,30,50,60,75,100], 'max_features':[1,3,5]},\n",
    "             {'bootstrap': [False], 'n_estimators':[3,10], 'max_features':[1,3,5]}]\n",
    "rf_gs_4 = GridSearchCV(rf_4, rf_params, cv=8, scoring='accuracy', return_train_score=True)"
   ]
  },
  {
   "cell_type": "code",
   "execution_count": 26,
   "id": "00bfcce3",
   "metadata": {},
   "outputs": [
    {
     "data": {
      "text/plain": [
       "{'max_features': 3, 'n_estimators': 3}"
      ]
     },
     "execution_count": 26,
     "metadata": {},
     "output_type": "execute_result"
    }
   ],
   "source": [
    "rf_gs_4.fit(X_4_test, y_4_test)\n",
    "rf_gs_4.best_params_"
   ]
  },
  {
   "cell_type": "markdown",
   "id": "caf07c0b",
   "metadata": {},
   "source": [
    "f)\tUse the best or optimal parameter values to build a model, then compute the accuracy score for the decision tree and for the random forest). "
   ]
  },
  {
   "cell_type": "code",
   "execution_count": 27,
   "id": "0bfc785a",
   "metadata": {},
   "outputs": [
    {
     "data": {
      "text/plain": [
       "DecisionTreeClassifier(max_depth=4, max_features=5, random_state=42)"
      ]
     },
     "execution_count": 27,
     "metadata": {},
     "output_type": "execute_result"
    }
   ],
   "source": [
    "dt_estimator = dt_gs_4.best_estimator_\n",
    "dt_estimator"
   ]
  },
  {
   "cell_type": "code",
   "execution_count": 28,
   "id": "2b927204",
   "metadata": {},
   "outputs": [
    {
     "data": {
      "text/plain": [
       "RandomForestClassifier(max_features=3, n_estimators=3, random_state=42)"
      ]
     },
     "execution_count": 28,
     "metadata": {},
     "output_type": "execute_result"
    }
   ],
   "source": [
    "rf_estimator = rf_gs_4.best_estimator_\n",
    "rf_estimator"
   ]
  },
  {
   "cell_type": "code",
   "execution_count": 29,
   "id": "a5dc4945",
   "metadata": {},
   "outputs": [],
   "source": [
    "# Decision Tree\n",
    "dt_estimator.fit(X_4_train, y_4_train)\n",
    "y_4_train_pred = dt_estimator.predict(X_4_train)\n",
    "y_4_test_pred = dt_estimator.predict(X_4_test)"
   ]
  },
  {
   "cell_type": "code",
   "execution_count": 30,
   "id": "00451c33",
   "metadata": {},
   "outputs": [
    {
     "name": "stdout",
     "output_type": "stream",
     "text": [
      "Decision Tree accuracy, Training: 0.6863\n"
     ]
    }
   ],
   "source": [
    "dt_acc_train = accuracy_score(y_4_train, y_4_train_pred)\n",
    "print(f\"Decision Tree accuracy, Training: {round(dt_acc_train, 4)}\")"
   ]
  },
  {
   "cell_type": "code",
   "execution_count": 31,
   "id": "89e3ae03",
   "metadata": {},
   "outputs": [
    {
     "name": "stdout",
     "output_type": "stream",
     "text": [
      "Decision Tree accuracy, Test: 0.6909\n"
     ]
    }
   ],
   "source": [
    "dt_acc_test = accuracy_score(y_4_test, y_4_test_pred)\n",
    "print(f\"Decision Tree accuracy, Test: {round(dt_acc_test, 4)}\")"
   ]
  },
  {
   "cell_type": "code",
   "execution_count": 32,
   "id": "b1033700",
   "metadata": {},
   "outputs": [],
   "source": [
    "# Random Forest\n",
    "rf_estimator.fit(X_4_train, y_4_train)\n",
    "y_4_train_pred = rf_estimator.predict(X_4_train)\n",
    "y_4_test_pred = rf_estimator.predict(X_4_test)"
   ]
  },
  {
   "cell_type": "code",
   "execution_count": 33,
   "id": "c24b7101",
   "metadata": {},
   "outputs": [
    {
     "name": "stdout",
     "output_type": "stream",
     "text": [
      "Random forest accuracy, Training: 0.6855\n"
     ]
    }
   ],
   "source": [
    "rf_accuracy_train = accuracy_score(y_4_train, y_4_train_pred)\n",
    "print(f\"Random forest accuracy, Training: {round(rf_accuracy_train, 4)}\")"
   ]
  },
  {
   "cell_type": "code",
   "execution_count": 34,
   "id": "bb37ed4c",
   "metadata": {},
   "outputs": [
    {
     "name": "stdout",
     "output_type": "stream",
     "text": [
      "Random forest accuracy, Test: 0.6925\n"
     ]
    }
   ],
   "source": [
    "rf_accuracy_test = accuracy_score(y_4_test, y_4_test_pred)\n",
    "print(f\"Random forest accuracy, Test: {round(rf_accuracy_test, 4)}\")"
   ]
  },
  {
   "cell_type": "markdown",
   "id": "ed622d33",
   "metadata": {},
   "source": [
    "g)\tDiscuss about overfitting for both models and, also discuss which model is better for classification for your dataset and why? "
   ]
  },
  {
   "cell_type": "markdown",
   "id": "8bea2184",
   "metadata": {},
   "source": [
    "<p>The models are not overfit. The test accuracy is within normal deviation for the training.</p>\n",
    "<p>As for which to use, the accuracy was not great for either. The Decision Tree accuracy for training was slightly higher, which Random Forest Test accuracy is better. For that \"tie\", I will go with the test Accuracy of Random Forest. But, the results are nearly the same, so that is a coin toss. I could just as easily say that Decision Tree difference between training and test is closer than Random Forest. Again, coin toss.</p>\n",
    "<p>More generally, for Random Forest, 100% or other high values for accuracy on the training data is not a huge cause for concern. There is also a point of performance gain or loss. For Random Forest, it may seem like a better idea to increase the depth significantly, since this will not cause overfitting. But it may simply be a waste of time, processor use, and power. In the world of Data Science, the savings of computation time may be well worth scaling back to a good depth, rather that perfect.</p>\n",
    "<p>For Decision Trees and overfitting, we need to keep the tree pruned. To do so, we can use hyperparameter tuning with cross validation to make sure we are utilizing the tree efficiently. Or we may produce an entire tree and trim. The first is generally the best approach. While it may be computationally expensive to tune hyperparameters and cross validate, this is a good middle ground to ensure the model is not overfitted and to make sure some analyst does not have to sit with a computer for days on end waiting for the server to finish.</p>"
   ]
  }
 ],
 "metadata": {
  "kernelspec": {
   "display_name": "Python 3",
   "language": "python",
   "name": "python3"
  },
  "language_info": {
   "codemirror_mode": {
    "name": "ipython",
    "version": 3
   },
   "file_extension": ".py",
   "mimetype": "text/x-python",
   "name": "python",
   "nbconvert_exporter": "python",
   "pygments_lexer": "ipython3",
   "version": "3.9.4"
  }
 },
 "nbformat": 4,
 "nbformat_minor": 5
}
